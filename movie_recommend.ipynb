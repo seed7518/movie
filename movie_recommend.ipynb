{
 "cells": [
  {
   "cell_type": "code",
   "execution_count": 55,
   "metadata": {},
   "outputs": [
    {
     "data": {
      "text/plain": [
       "'\\n\\n啟動伺服器基本樣版\\n\\n設定業務功能\\n    當用戶關注時\\n        記錄個資，綁定菜單，回傳文字消息與圖片消息，介紹功能與使用方法\\n    當用戶點擊自定義菜單或輸入文字消息時\\n        傳送圖片消息或相應文字消息。\\n    當用戶點擊按鈕消息的時候\\n        會將用戶個資紀錄回檔案內，以供未來聯繫用\\n\\n'"
      ]
     },
     "execution_count": 55,
     "metadata": {},
     "output_type": "execute_result"
    }
   ],
   "source": [
    "'''\n",
    "\n",
    "啟動伺服器基本樣版\n",
    "\n",
    "設定業務功能\n",
    "    當用戶關注時\n",
    "        記錄個資，綁定菜單，回傳文字消息與圖片消息，介紹功能與使用方法\n",
    "    當用戶點擊自定義菜單或輸入文字消息時\n",
    "        傳送圖片消息或相應文字消息。\n",
    "    當用戶點擊按鈕消息的時候\n",
    "        會將用戶個資紀錄回檔案內，以供未來聯繫用\n",
    "\n",
    "'''"
   ]
  },
  {
   "cell_type": "code",
   "execution_count": 56,
   "metadata": {},
   "outputs": [],
   "source": [
    "# 表單tag 儲存變數global\n",
    "#global postback_from\n",
    "#測試版\n",
    "#postback_from = {'tag1':0,'tag2':0,'tag3':0,'tag4':0,'tag5':0,'tag6':0,'tag7':0,'tag8':0,'tag9':0,'tag10':0}\n",
    "#正式版\n",
    "postback_from = {'tag1':0,'tag3':0,'tag4':0,'tag5':0,'tag6':0,'tag7':0,'tag8':0,'tag9':0}\n",
    "# 非院線片\n",
    "tag_home_final = [{'m2_Title': '', 'm2_Plot_short': '', 'm2_Poster': '' , 'm2_Actors': ''},\n",
    "{'m2_Title': '', 'm2_Plot_short': '', 'm2_Poster': '', 'm2_Actors': ''},\n",
    "{'m2_Title': '', 'm2_Plot_short': '', 'm2_Poster': '', 'm2_Actors': ''},\n",
    "{'m2_Title': '', 'm2_Plot_short': '', 'm2_Poster': '', 'm2_Actors': ''},\n",
    "{'m2_Title': '', 'm2_Plot_short': '', 'm2_Poster': '', 'm2_Actors': ''}\n",
    "]"
   ]
  },
  {
   "cell_type": "code",
   "execution_count": 57,
   "metadata": {},
   "outputs": [],
   "source": [
    "'''\n",
    "\n",
    "電影填選表單[簡介]長度修改，因為LINE上面只能顯示60個字\n",
    "    初始抓42個字，\n",
    "    再從第43個字開始判斷是否為空白字元以補足英文單字,\n",
    "    在最後面加上...\n",
    "\n",
    "'''\n",
    "def Plot_short_from(word):\n",
    "    w_42 = 42\n",
    "    w_43 = 43\n",
    "    word_fst = word[0:w_42]\n",
    "    wordadd = ''\n",
    "    while True:\n",
    "      word_42up = word[w_42:w_43]\n",
    "      if word_42up == ' ':\n",
    "        break\n",
    "      else:\n",
    "        wordadd = wordadd + word_42up\n",
    "        w_42 += 1\n",
    "        w_43 += 1\n",
    "    word_final = word_fst + wordadd + '...'\n",
    "    return word_final"
   ]
  },
  {
   "cell_type": "code",
   "execution_count": 58,
   "metadata": {},
   "outputs": [],
   "source": [
    "'''\n",
    "\n",
    "電影填選表單[電影名稱]長度修改，因為LINE上面只能顯示40個字\n",
    "    判斷第41字元是不是有資料，\n",
    "    如果有只抓37個字元,\n",
    "    在最後面加上...,\n",
    "    如果第41字元沒有資料則正常顯示\n",
    "\n",
    "'''\n",
    "def title_short(title):\n",
    "    w_40 = 40\n",
    "    w_41 = 41\n",
    "    w_37 = 37\n",
    "    word_40 = title[0:w_40]\n",
    "    word_37 = title[0:w_37]\n",
    "    wordadd = '...'\n",
    "    if title[w_40:w_41] != '':\n",
    "        word_final = word_37 + wordadd\n",
    "    else:\n",
    "        word_final = word_40\n",
    "        \n",
    "    return word_final"
   ]
  },
  {
   "cell_type": "code",
   "execution_count": 59,
   "metadata": {},
   "outputs": [
    {
     "name": "stdout",
     "output_type": "stream",
     "text": [
      "{'similiar': 0.9955753412640794, 'number': 40, 'm1_Title': 'Harry Potter and the Half-Blood Prince', 'm1_Plot_short': 'As Harry Potter begins his sixth year at Hogwarts, he discovers an old book marked as \"the property of the Half-Blood Prince\" and begins to learn more about Lord Voldemort\\'s dark past.', 'm1_Poster': 'https://m.media-amazon.com/images/M/MV5BNzU3NDg4NTAyNV5BMl5BanBnXkFtZTcwOTg2ODg1Mg@@._V1_SX300.jpg'}\n"
     ]
    }
   ],
   "source": [
    "# 想看電影的表單10個tag\n",
    "import pymongo\n",
    "myclient = pymongo.MongoClient('mongodb://10.120.28.26:27017')\n",
    "mydb = myclient[\"test_johney\"]\n",
    "mycol = mydb[\"simon_offline_add_tag3\"]\n",
    "\n",
    "#tag0_Form = {}\n",
    "tag1_Form = {}\n",
    "#tag2_Form = {}\n",
    "tag3_Form = {}\n",
    "tag4_Form = {}\n",
    "tag5_Form = {}\n",
    "tag6_Form = {}\n",
    "tag7_Form = {}\n",
    "tag8_Form = {}\n",
    "tag9_Form = {}\n",
    "\n",
    "\n",
    "\n",
    "# for tag_0_Form in mycol.find({\"m1_tag\":0}\\\n",
    "#             ,{\"_id\":0,\"similiar\":1,\"number\":1,\"m1_Title\":1,\"m1_Plot_short\":1,\"m1_Poster\":1})\\\n",
    "#             .sort(\"similiar\",-1).limit(1):\n",
    "#     tag0_Form = tag_0_Form\n",
    "for tag_1_Form in mycol.find({\"m1_tag\":1}\\\n",
    "            ,{\"_id\":0,\"similiar\":1,\"number\":1,\"m1_Title\":1,\"m1_Plot_short\":1,\"m1_Poster\":1})\\\n",
    "            .sort(\"similiar\",-1).limit(1):\n",
    "    tag1_Form = tag_1_Form\n",
    "print(tag1_Form)    \n",
    "# for tag_2_Form in mycol.find({\"m1_tag\":2}\\\n",
    "#             ,{\"_id\":0,\"similiar\":1,\"number\":1,\"m1_Title\":1,\"m1_Plot_short\":1,\"m1_Poster\":1})\\\n",
    "#             .sort(\"similiar\",-1).limit(1):\n",
    "#     tag2_Form = tag_2_Form\n",
    "\n",
    "for tag_3_Form in mycol.find({\"m1_tag\":3}\\\n",
    "            ,{\"_id\":0,\"similiar\":1,\"number\":1,\"m1_Title\":1,\"m1_Plot_short\":1,\"m1_Poster\":1})\\\n",
    "            .sort(\"similiar\",-1).limit(1):\n",
    "    tag3_Form = tag_3_Form\n",
    "\n",
    "for tag_4_Form in mycol.find({\"m1_tag\":4}\\\n",
    "            ,{\"_id\":0,\"similiar\":1,\"number\":1,\"m1_Title\":1,\"m1_Plot_short\":1,\"m1_Poster\":1})\\\n",
    "            .sort(\"similiar\",-1).limit(1):\n",
    "    tag4_Form = tag_4_Form\n",
    "\n",
    "for tag_5_Form in mycol.find({\"m1_tag\":5}\\\n",
    "            ,{\"_id\":0,\"similiar\":1,\"number\":1,\"m1_Title\":1,\"m1_Plot_short\":1,\"m1_Poster\":1})\\\n",
    "            .sort(\"similiar\",-1).limit(1):\n",
    "    tag5_Form = tag_5_Form\n",
    "\n",
    "for tag_6_Form in mycol.find({\"m1_tag\":6}\\\n",
    "            ,{\"_id\":0,\"similiar\":1,\"number\":1,\"m1_Title\":1,\"m1_Plot_short\":1,\"m1_Poster\":1})\\\n",
    "            .sort(\"similiar\",-1).limit(1):\n",
    "    tag6_Form = tag_6_Form\n",
    "\n",
    "for tag_7_Form in mycol.find({\"m1_tag\":7}\\\n",
    "            ,{\"_id\":0,\"similiar\":1,\"number\":1,\"m1_Title\":1,\"m1_Plot_short\":1,\"m1_Poster\":1})\\\n",
    "            .sort(\"similiar\",-1).limit(1):\n",
    "    tag7_Form = tag_7_Form\n",
    "\n",
    "for tag_8_Form in mycol.find({\"m1_tag\":8}\\\n",
    "            ,{\"_id\":0,\"similiar\":1,\"number\":1,\"m1_Title\":1,\"m1_Plot_short\":1,\"m1_Poster\":1})\\\n",
    "            .sort(\"similiar\",-1).limit(1):\n",
    "    tag8_Form = tag_8_Form\n",
    "\n",
    "for tag_9_Form in mycol.find({\"m1_tag\":9}\\\n",
    "            ,{\"_id\":0,\"similiar\":1,\"number\":1,\"m1_Title\":1,\"m1_Plot_short\":1,\"m1_Poster\":1})\\\n",
    "            .sort(\"similiar\",-1).limit(1):\n",
    "    tag9_Form = tag_9_Form"
   ]
  },
  {
   "cell_type": "code",
   "execution_count": 60,
   "metadata": {},
   "outputs": [],
   "source": [
    "\n",
    "# home_movie = ''\n",
    "# tag_url_1 = 12345\n",
    "def home_movie_tag():\n",
    "    global tag_home_final\n",
    "    import pymongo\n",
    "    tag__list = []\n",
    "    tag__2 = []\n",
    "    tag__1 = []\n",
    "    tag__0 = [1,3,4,5,6,7,8,9]\n",
    "    myclient = pymongo.MongoClient('mongodb://10.120.28.26:27017')\n",
    "    mydb = myclient[\"test_johney\"]\n",
    "    mycol = mydb[\"simon_offline_add_tag3\"]\n",
    "\n",
    "    #tag__list.append()\n",
    "    #tag__list.append(postback_from['tag0'])\n",
    "    tag__list.append(postback_from['tag1'])\n",
    "    #tag__list.append(postback_from['tag2'])\n",
    "    tag__list.append(postback_from['tag3'])\n",
    "    tag__list.append(postback_from['tag4'])\n",
    "    tag__list.append(postback_from['tag5'])\n",
    "    tag__list.append(postback_from['tag6'])\n",
    "    tag__list.append(postback_from['tag7'])\n",
    "    tag__list.append(postback_from['tag8'])\n",
    "    tag__list.append(postback_from['tag9'])\n",
    "    \n",
    "    # 因為目前的tag只有  1,3,4,5,6,7,8,9 \n",
    "    num_tag = 0\n",
    "    for a in tag__list:\n",
    "        if num_tag == 0 or num_tag == 2:\n",
    "            num_tag = num_tag + 1\n",
    "            if a == 2:\n",
    "                tag__2.append(num_tag)\n",
    "            elif a == 1:\n",
    "                tag__1.append(num_tag)    \n",
    "        elif a == 2:\n",
    "            tag__2.append(num_tag)\n",
    "        elif a == 1:\n",
    "            tag__1.append(num_tag)\n",
    "        num_tag = num_tag + 1    \n",
    "\n",
    "    tag_home_list_2 =[]\n",
    "    tag_home_list_1 =[]\n",
    "    tag_home_list_0 =[]\n",
    "    #tag_home_final  =[]\n",
    "    for tag_home in mycol.find({\"m2_tag\":{\"$in\":tag__2}},{\"_id\":0,\"m2_Title\":1,\"m2_Plot_short\":1,\"m2_Poster\":1,\"m2_Actors\":1})\\\n",
    "                .sort(\"similiar\",-1).limit(5):\n",
    "        tag_home_list_2.append(tag_home)\n",
    "    for tag_home in mycol.find({\"m2_tag\":{\"$in\":tag__1}},{\"_id\":0,\"m2_Title\":1,\"m2_Plot_short\":1,\"m2_Poster\":1,\"m2_Actors\":1})\\\n",
    "                .sort(\"similiar\",-1).limit(5):\n",
    "        tag_home_list_2.append(tag_home)\n",
    "    for tag_home in mycol.find({\"m2_tag\":{\"$in\":tag__0}},{\"_id\":0,\"m2_Title\":1,\"m2_Plot_short\":1,\"m2_Poster\":1,\"m2_Actors\":1})\\\n",
    "                .sort(\"similiar\",-1).limit(5):\n",
    "        tag_home_list_2.append(tag_home)    \n",
    "    #print(tag_home_list_2)        \n",
    "    if (2 in tag__list) == True:\n",
    "        tag_home_final = tag_home_list_2\n",
    "    elif (1 in tag__list) == True:\n",
    "        tag_home_final = tag_home_list_1\n",
    "    else:\n",
    "        tag_home_final = tag_home_list_0\n",
    "    \n",
    "#     tag_url_1 = tag_home_final[0]['m2_Poster']\n",
    "#     print(tag__list)\n",
    "#     print(tag__2)\n",
    "#     print(tag__1)\n",
    "#     print(tag_home_final[0]['m2_Title'])\n",
    "#     print(tag_home_final[0]['m2_Plot_short'])\n",
    "#     print(tag_home_final[0]['m2_Poster'])\n",
    "#     print(tag_home_final[0]['m2_Actors'])\n",
    "\n",
    "    return tag_home_final"
   ]
  },
  {
   "cell_type": "code",
   "execution_count": 61,
   "metadata": {},
   "outputs": [],
   "source": [
    "def Release_movie_tag():\n",
    "#     global tag_Release_final\n",
    "#     import pymongo\n",
    "#     tag__list = []\n",
    "#     tag__2 = []\n",
    "#     tag__1 = []\n",
    "#     tag__0 = [1,2,3,4,5,6,7,8,9,10]\n",
    "#     myclient = pymongo.MongoClient('mongodb://10.120.28.26:27017')\n",
    "#     mydb = myclient[\"test_johney\"]\n",
    "#     mycol = mydb[\"simon_online_add_tag\"]\n",
    "\n",
    "#     #tag__list.append()\n",
    "#     tag__list.append(postback_from['tag1'])\n",
    "#     tag__list.append(postback_from['tag2'])\n",
    "#     tag__list.append(postback_from['tag3'])\n",
    "#     tag__list.append(postback_from['tag4'])\n",
    "#     tag__list.append(postback_from['tag5'])\n",
    "#     tag__list.append(postback_from['tag6'])\n",
    "#     tag__list.append(postback_from['tag7'])\n",
    "#     tag__list.append(postback_from['tag8'])\n",
    "#     tag__list.append(postback_from['tag9'])\n",
    "#     tag__list.append(postback_from['tag10'])\n",
    "#     num_tag = 0\n",
    "#     for a in tag__list:\n",
    "#         num_tag = num_tag + 1\n",
    "#         if a == 2:\n",
    "#             tag__2.append(num_tag)\n",
    "#         elif a == 1:\n",
    "#             tag__1.append(num_tag)\n",
    "\n",
    "#     tag_home_list_2 =[]\n",
    "#     tag_home_list_1 =[]\n",
    "#     tag_home_list_0 =[]\n",
    "#     #tag_home_final  =[]\n",
    "#     for tag_home in mycol.find({\"m2_tag\":{\"$in\":tag__2}},{\"_id\":0,\"m2_Title\":1,\"m2_Plot_short\":1,\"m2_Poster\":1,\"m2_Actors\":1})\\\n",
    "#                 .sort(\"similiar\",-1).limit(5):\n",
    "#         tag_home_list_2.append(tag_home)\n",
    "#     for tag_home in mycol.find({\"m2_tag\":{\"$in\":tag__1}},{\"_id\":0,\"m2_Title\":1,\"m2_Plot_short\":1,\"m2_Poster\":1,\"m2_Actors\":1})\\\n",
    "#                 .sort(\"similiar\",-1).limit(5):\n",
    "#         tag_home_list_2.append(tag_home)\n",
    "#     for tag_home in mycol.find({\"m2_tag\":{\"$in\":tag__0}},{\"_id\":0,\"m2_Title\":1,\"m2_Plot_short\":1,\"m2_Poster\":1,\"m2_Actors\":1})\\\n",
    "#                 .sort(\"similiar\",-1).limit(5):\n",
    "#         tag_home_list_2.append(tag_home)    \n",
    "#     #print(tag_home_list_2)        \n",
    "#     if (2 in tag__list) == True:\n",
    "#         tag_home_final = tag_home_list_2\n",
    "#     elif (1 in tag__list) == True:\n",
    "#         tag_home_final = tag_home_list_1\n",
    "#     else:\n",
    "#         tag_home_final = tag_home_list_0\n",
    "    \n",
    "# #     tag_url_1 = tag_home_final[0]['m2_Poster']\n",
    "# #     print(tag__list)\n",
    "# #     print(tag__2)\n",
    "# #     print(tag__1)\n",
    "# #     print(tag_home_final[0]['m2_Title'])\n",
    "# #     print(tag_home_final[0]['m2_Plot_short'])\n",
    "# #     print(tag_home_final[0]['m2_Poster'])\n",
    "# #     print(tag_home_final[0]['m2_Actors'])\n",
    "\n",
    "#     return tag_home_final\n",
    "      return 'OK'"
   ]
  },
  {
   "cell_type": "code",
   "execution_count": 62,
   "metadata": {},
   "outputs": [],
   "source": [
    "# %load ../linebot_deployment-master/linebot_model.py\n",
    "\"\"\"\n",
    "Created on Fri Jul 12 17:21:16 2019\n",
    "\n",
    "@author: Big data\n",
    "\"\"\"\n",
    "\n",
    "# -*- coding: utf-8 -*-\n",
    "\"\"\"\n",
    "Created on Sun Jul  7 12:56:10 2019\n",
    "\n",
    "@author: Big data\n",
    "\"\"\"  \n",
    "\n",
    "import numpy as np\n",
    "from pytrends.request import TrendReq #API\n",
    "import time\n",
    "import random\n",
    "import json\n",
    "import pandas as pd\n",
    "import numpy as np\n",
    "import pandas as pd\n",
    "import xgboost as xgb\n",
    "import numpy as np\n",
    "from xgboost import plot_importance\n",
    "from sklearn.preprocessing import Imputer\n",
    "from sklearn.model_selection import train_test_split\n",
    "from sklearn import model_selection\n",
    "from sklearn.linear_model import LogisticRegression\n",
    "import pickle\n",
    "from sklearn.externals import joblib\n",
    "from sklearn.ensemble import RandomForestClassifier\n",
    "from sklearn.model_selection import cross_val_score\n",
    "t={\"movie_name\":\"herry\",\"Runtime\":\"101min\",\"budget_in_USD\":1400000,\"Production\":\"aaa\",\"imdbVotes\":0.5,\"IMDBscore\":0.6,\"TomatoesScore\":0.8,\"Metascore\":0.5,\"actor\":\"johney\",\n",
    "  \"Theater_num\":1000,\"movie_2_before\":50,\"movie_1_before\":50,\"movie_0_before\":50,\"Actor_2_before\":50,\"Actor_1_before\":50,\n",
    "  \"Actor_0_before\":50,\"Genre\":\"Action\",\"Language\":\"English\",\"Country\":\"USA\",\"classification\":\"R\",\"Released\":\"27 Feb 2019\"}\n",
    "def month(m):\n",
    "    mon = {\n",
    "        \"Jan\": 1, \"Feb\": 2, \"Mar\": 3, \"Apr\": 4, \"May\": 5, \"Jun\": 6,\n",
    "        \"Jul\": 7, \"Aug\": 8, \"Sep\": 9, \"Oct\": 10, \"Nov\": 11, \"Dec\": 12\n",
    "    }\n",
    "    return mon.get(m)\n",
    "\n",
    "def g_trend_movie(movie, release_date):\n",
    "    s_movie = movie\n",
    "    if \",\" in movie:  # Gooletrends不可使用\"，\" 分隔 所以將名稱有\"，\"的取代成空白\n",
    "        s_movie = movie.replace(\",\", \" \")\n",
    "    if \"：\" in movie:\n",
    "        s_movie = movie.split(\"：\")[0]\n",
    "\n",
    "    release_year = int(release_date.split(\" \")[-1])  # 取上映年分，還有前一年和後一年\n",
    "    release_mon = release_date.split(\" \")[1]\n",
    "    release_mon = month(release_mon)\n",
    "    release_day = int(release_date.split(\" \")[0])\n",
    "\n",
    "    front_year = int(release_year) - 1\n",
    "    next_year = int(release_year) + 1\n",
    "    timeframe = str(front_year) + \"-01-01 \" + str(next_year) + \"-12-31\"\n",
    "\n",
    "    pytrend = TrendReq(tz=360)\n",
    "    kw_list = [s_movie]\n",
    "    pytrend.build_payload(kw_list=kw_list, cat=34, timeframe=timeframe, geo=\"US\", gprop=\"\")  # 搜尋使用的參數,其中cat=34 為電影類別\n",
    "\n",
    "    moviedata = pytrend.interest_over_time().get(kw_list)\n",
    "    try:\n",
    "        moviedata.rename(columns={moviedata.columns[0]: \"Count\"}, inplace=True)\n",
    "        moviedata_list = json.loads(moviedata.to_json(orient='table'))['data']\n",
    "        if release_mon == 2:\n",
    "            start_mon = 12\n",
    "            start_year = release_year - 1\n",
    "        elif release_mon == 1:\n",
    "            start_mon = 11\n",
    "            start_year = release_year - 1\n",
    "        else:\n",
    "            start_mon = release_mon - 2\n",
    "            start_year = release_year\n",
    "        start_day = release_day\n",
    "        for l in moviedata_list:\n",
    "            tempdate = l[\"date\"][0:10]\n",
    "            l[\"date\"] = tempdate\n",
    "        node_day = 0\n",
    "        day_count = 0\n",
    "        node_count = 0\n",
    "        for l in moviedata_list:\n",
    "            year_gt = int(l[\"date\"].split(\"-\")[0])\n",
    "            mon_gt = int(l[\"date\"].split(\"-\")[1])\n",
    "            day_gt = int(l[\"date\"].split(\"-\")[-1])\n",
    "            if year_gt == start_year and mon_gt == start_mon:\n",
    "                if node_day < start_day:\n",
    "                    node_day = day_gt\n",
    "                    node_count = day_count\n",
    "            day_count += 1\n",
    "        # node_data= moviedata_list[node_count]\n",
    "\n",
    "        output_list = []\n",
    "        for i in range(17):\n",
    "            try:\n",
    "                # print(moviedata_list[node_count+i],i)\n",
    "                output_list.append(moviedata_list[node_count + i][\"Count\"])\n",
    "            except:\n",
    "                output_list.append(0)\n",
    "    except:\n",
    "        output_list = [0, 0, 0, 0, 0,\n",
    "                       0, 0, 0, 0, 0,\n",
    "                       0, 0, 0, 0, 0,\n",
    "                       0, 0]\n",
    "\n",
    "    output_df = pd.DataFrame([output_list])\n",
    "\n",
    "    j = 8\n",
    "    for i in range(0, 9, 1):\n",
    "        output_df = output_df.rename(columns={i: \"movie_\" + str(j) + \"_before\"})\n",
    "        j -= 1\n",
    "    j = 1\n",
    "    for i in range(9, 17, 1):\n",
    "        output_df = output_df.rename(columns={i: \"movie_\" + str(j) + \"_after\"})\n",
    "        j += 1\n",
    "    output_df = output_df.to_dict(orient='records')\n",
    "    return output_df\n",
    "\n",
    "def g_trend_actor(actor, release_date):\n",
    "    actor_alist = actor.split(\",\")\n",
    "\n",
    "    release_year = int(release_date.split(\" \")[-1])\n",
    "    release_mon = release_date.split(\" \")[1]\n",
    "    release_mon = month(release_mon)\n",
    "    release_day = int(release_date.split(\" \")[0])\n",
    "\n",
    "    timeframe = [\"2004-01-01 2007-12-31\", \"2008-01-01 2011-12-31\", \"2012-01-01 2015-12-31\", \"2016-01-01 2019-12-31\"]\n",
    "    output_total = np.array([0, 0, 0, 0, 0, 0, 0, 0, 0, 0, 0, 0, 0, 0, 0, 0, 0])\n",
    "    for actor in actor_alist:\n",
    "        actordata_list = []\n",
    "        for t in timeframe:\n",
    "            time.sleep(random.randint(3, 5))\n",
    "            # print(actor,t)\n",
    "            pytrend = TrendReq(tz=360)\n",
    "            kw_list = [actor]\n",
    "            pytrend.build_payload(kw_list=kw_list, cat=34, timeframe=t, geo=\"US\", gprop=\"\")  # 搜尋使用的參數,其中cat=34 為電影類別\n",
    "\n",
    "            actordata = pytrend.interest_over_time().get(kw_list)\n",
    "            try:\n",
    "                actordata.rename(columns={actordata.columns[0]: \"Count\"}, inplace=True)\n",
    "            except:\n",
    "                continue\n",
    "            temp_actordata_list = json.loads(actordata.to_json(orient='table'))['data']\n",
    "            actordata_list += temp_actordata_list\n",
    "\n",
    "        for l in actordata_list:\n",
    "            tempdate = l[\"date\"][0:10]\n",
    "            l[\"date\"] = tempdate\n",
    "\n",
    "        if release_mon == 2:\n",
    "            start_mon = 12\n",
    "            start_year = release_year - 1\n",
    "        elif release_mon == 1:\n",
    "            start_mon = 11\n",
    "            start_year = release_year - 1\n",
    "        else:\n",
    "            start_mon = release_mon - 2\n",
    "            start_year = release_year\n",
    "        start_day = release_day\n",
    "        node_day = 0\n",
    "        day_count = 0\n",
    "        node_count = 0\n",
    "        for l in actordata_list:\n",
    "            year_gt = int(l[\"date\"].split(\"-\")[0])\n",
    "            mon_gt = int(l[\"date\"].split(\"-\")[1])\n",
    "            day_gt = int(l[\"date\"].split(\"-\")[-1])\n",
    "            if year_gt == start_year and mon_gt == start_mon:\n",
    "                if node_day < start_day:\n",
    "                    node_day = day_gt\n",
    "                    node_count = day_count\n",
    "            day_count += 1\n",
    "        # print(actordata_list[node_count],\"rr\")\n",
    "\n",
    "        output_list = []\n",
    "        for i in range(17):\n",
    "            try:\n",
    "                # print(actordata_list[node_count+i],i)\n",
    "                output_list.append(actordata_list[node_count + i][\"Count\"])\n",
    "            except:\n",
    "                output_list.append(0)\n",
    "        output_list = np.array(output_list)\n",
    "\n",
    "        output_total = output_total + output_list\n",
    "    output_avg = output_total / len(actor_alist)\n",
    "    output_avg = pd.DataFrame([output_avg])\n",
    "    j = 8\n",
    "    for i in range(0, 9, 1):\n",
    "        output_avg = output_avg.rename(columns={i: \"Actor_\" + str(j) + \"_before\"})\n",
    "        j -= 1\n",
    "    j = 1\n",
    "    for i in range(9, 17, 1):\n",
    "        output_avg = output_avg.rename(columns={i: \"Actor_\" + str(j) + \"_after\"})\n",
    "        j += 1\n",
    "    output_avg = output_avg.to_dict(orient='records')\n",
    "    return output_avg\n",
    "\n",
    "def trends_for_line(m):\n",
    "    movie = m[\"movie_name\"]\n",
    "    release_date = m[\"Released\"]\n",
    "    actor = m[\"actor\"]\n",
    "    col_movie = g_trend_movie(movie, release_date)\n",
    "    col_actor = g_trend_actor(actor, release_date)\n",
    "    m = dict(m, **col_movie[0])\n",
    "    m = dict(m, **col_actor[0])\n",
    "\n",
    "    return m\n",
    "\n",
    "def model_yn(movielist):\n",
    "    \n",
    "    movielist['release_date_USA']=movielist['Released']\n",
    "    \n",
    "\n",
    "    want_keys={\n",
    "            'classification', 'Runtime', 'budget_in_USD', \n",
    "           'release_date_USA', 'Genre', 'imdbVotes', 'IMDBscore', 'TomatoesScore',\n",
    "           'Metascore', 'Theater_num', 'movie_2_before',\n",
    "           'movie_1_before', 'movie_0_before', 'Actor_2_before',\n",
    "           'Actor_1_before', 'Actor_0_before'}\n",
    "\n",
    "    wanted_dict = {key : [val] for key ,val in movielist.items() if key in want_keys }   \n",
    "    df = pd.DataFrame.from_dict(wanted_dict)\n",
    "\n",
    "    for i in df.columns:\n",
    "#        print(i)\n",
    "        if df[i].isna().any():\n",
    "            df[i][0] = str(0)\n",
    "    \n",
    "    df[\"runtime\"] = df[\"Runtime\"]\n",
    "    df[\"runtime\"] = df[\"runtime\"].str.replace(\"min\",\"\")\n",
    "    df[\"runtime\"] = df[\"runtime\"].astype(\"float\")\n",
    "    df = df.drop([\"Runtime\"],axis= 1)\n",
    "    try:\n",
    "        df[\"budget_in_USD\"] = df[\"budget_in_USD\"].str.replace('$',\"\").str.replace(\",\",\"\")   \n",
    "    except:\n",
    "        pass\n",
    "    df[\"budget_in_USD\"] = df[\"budget_in_USD\"].astype(\"float\")\n",
    "    \n",
    "    try:\n",
    "        df[\"imdbVotes\"] = df[\"imdbVotes\"][0].replace(\",\",\"\")\n",
    "    except:\n",
    "        pass\n",
    "    df[\"imdbVotes\"] = df[\"imdbVotes\"].astype(\"float\")\n",
    "    \n",
    "    \n",
    "    df['release_date_USA'] = df.release_date_USA.str.split(' ',expand=True)[1]\n",
    "    \n",
    "    #df[\"Cmovie_3_before\"] = df[\"Cmovie_3_before\"].astype(\"str\").replace(\"error\",\"0\").astype(\"float\")\n",
    "    #df[\"Cmovie_2_before\"] = df[\"Cmovie_2_before\"].astype(\"str\").replace(\"error\",\"0\").astype(\"float\")\n",
    "    #df[\"Cmovie_1_before\"] = df[\"Cmovie_1_before\"].astype(\"str\").replace(\"error\",\"0\").astype(\"float\")\n",
    "    #df[\"Cmovie_0_before\"] = df[\"Cmovie_0_before\"].astype(\"str\").replace(\"error\",\"0\").astype(\"float\")\n",
    "#    df[\"movie_3_before\"] = df[\"movie_3_before\"].astype(\"str\").replace(\"error\",\"0\").astype(\"float\")\n",
    "    df[\"movie_2_before\"] = df[\"movie_2_before\"].astype(\"str\").replace(\"error\",\"0\").astype(\"float\")\n",
    "    df[\"movie_1_before\"] = df[\"movie_1_before\"].astype(\"str\").replace(\"error\",\"0\").astype(\"float\")\n",
    "    df[\"movie_0_before\"] = df[\"movie_0_before\"].astype(\"str\").replace(\"error\",\"0\").astype(\"float\")\n",
    "#    df[\"Actor_3_before\"] = df[\"Actor_3_before\"].astype(\"str\").replace(\"error\",\"0\").astype(\"float\")\n",
    "    df[\"Actor_2_before\"] = df[\"Actor_2_before\"].astype(\"str\").replace(\"error\",\"0\").astype(\"float\")\n",
    "    df[\"Actor_1_before\"] = df[\"Actor_1_before\"].astype(\"str\").replace(\"error\",\"0\").astype(\"float\")\n",
    "    df[\"Actor_0_before\"] = df[\"Actor_0_before\"].astype(\"str\").replace(\"error\",\"0\").astype(\"float\")\n",
    "    df= df.join(pd.get_dummies(df[\"classification\"]).astype(\"bool\"))\n",
    "    df = df.drop([\"classification\"], axis=1)\n",
    "    \n",
    "    df= df.join(pd.get_dummies(df[\"release_date_USA\"]).astype(\"bool\"))\n",
    "    df = df.drop([\"release_date_USA\"], axis=1)\n",
    "    \n",
    "    \n",
    "    #onhot encoding\n",
    "    \n",
    "    \n",
    "    \n",
    "    model_wanted_keys=[\n",
    "            'runtime', 'budget_in_USD', 'imdbVotes', 'IMDBscore', 'TomatoesScore',\n",
    "           'Metascore', 'Theater_num', 'movie_2_before',\n",
    "           'movie_1_before', 'movie_0_before', 'Actor_2_before',\n",
    "           'Actor_1_before', 'Actor_0_before', 'G', 'NC-17', 'NotRated', 'PG',\n",
    "           'PG-13', 'R', 'TV-14', 'TV-G', 'TV-MA', 'TV-PG', 'TV-Y', 'TV-Y7',\n",
    "           'TV-Y7-FV', 'Unrated', 'Apr', 'Aug', 'Dec', 'Feb', 'Jan', 'Jul', 'Jun',\n",
    "           'Mar', 'May', 'Nov', 'Oct', 'Sep', 'Action', 'Adventure', 'Animation',\n",
    "           'Biography', 'Comedy', 'Crime', 'Documentary', 'Drama', 'Family',\n",
    "           'Fantasy', 'History', 'Horror', 'Music', 'Musical', 'Mystery',\n",
    "           'Romance', 'Sci-Fi', 'Sport', 'Thriller', 'War', 'Western']\n",
    "    data = [0]*len(model_wanted_keys)\n",
    "    \n",
    "    df_model = pd.DataFrame(data=[data],columns= model_wanted_keys)\n",
    "    df_model.update(df)\n",
    "    \n",
    "    with open('RandomForest.pickle', 'rb') as f:\n",
    "        clf2 = pickle.load(f)\n",
    "        #测试读取后的Model\n",
    "    return clf2.predict(df_model)[0]\n",
    "\n",
    "def predict_loss(m):\n",
    "\n",
    "    import pandas as pd\n",
    "    import numpy as np\n",
    "    import re\n",
    "    import xgboost as xgb\n",
    "\n",
    "    \n",
    "    wanted_keys={\"Runtime\",\"budget_in_USD\",\"Production\",\"imdbVotes\",\"IMDBscore\",\"TomatoesScore\",\"Metascore\",\"Theater_num\",\n",
    "                 \"movie_2_before\",\"movie_1_before\",\"movie_0_before\",\"Actor_2_before\",\"Actor_1_before\",\"Actor_0_before\",\n",
    "                 \"Genre\",\"Language\",\"Country\",\"classification\"}\n",
    "    \n",
    "    wanted_dict  = {key : [val] for key ,val in m.items() if key in wanted_keys}\n",
    "    df_company = pd.read_csv(\"company_detail.csv\")\n",
    "    company_dict = {}\n",
    "    for i, s in df_company.iterrows():\n",
    "        company_dict[s[\"company\"]] = s[\"avg\"]\n",
    "    key = list(company_dict.keys())\n",
    "    \n",
    "    regex_pat = re.compile(r\"[^a-zA-Z0-9]+\", flags=re.IGNORECASE)\n",
    "    wanted_dict[\"Production\"][0] = re.sub(regex_pat,'', wanted_dict[\"Production\"][0]).lower()\n",
    "    wanted_dict[\"Production\"] = wanted_dict[\"Production\"][0]\n",
    "    for x in key:\n",
    "        if wanted_dict[\"Production\"].find(x) != -1:\n",
    "           wanted_dict[\"Production\"] = company_dict[wanted_dict[\"Production\"]] \n",
    "           break \n",
    "   # print(\"type\",type(wanted_dict[\"Production\"]),type(wanted_dict[\"Production\"]) == 'str',wanted_dict[\"Production\"])\n",
    "    if type(wanted_dict[\"Production\"]) == str:\n",
    "        wanted_dict[\"Production\"]= 200000\n",
    "    \n",
    "    df = pd.DataFrame.from_dict(wanted_dict)        \n",
    "    cleaned = df.Genre.str.split(',', expand=True).stack()\n",
    "    cleaned = cleaned.apply(lambda x:x.replace(\" \",\"\"))\n",
    "    genre_enc = pd.get_dummies(cleaned, prefix='g').groupby(level=0,sort=False).sum()\n",
    "    \n",
    "    cleaned = df.Language.str.split(',', expand=True).stack()\n",
    "    cleaned = cleaned.apply(lambda x:x.replace(\" \",\"\"))\n",
    "    #drop_lang = (cleaned.value_counts()[cleaned.value_counts()<=5]).index.tolist()\n",
    "    #for l in range(len(cleaned)):\n",
    "    #    if cleaned.iloc[l] in drop_lang:\n",
    "    #        cleaned.iloc[l] = \"Other_language\"\n",
    "    language_enc = pd.get_dummies(cleaned, prefix='L').groupby(level=0,sort=False).sum()\n",
    "    \n",
    "    cleaned = df.Country.str.split(',', expand=True).stack()\n",
    "    cleaned = cleaned.apply(lambda x:x.replace(\" \",\"\"))\n",
    "    country_enc = pd.get_dummies(cleaned, prefix='L').groupby(level=0,sort=False).sum()   \n",
    "        \n",
    "    df[\"Runtime\"] = df[\"Runtime\"].str.replace(\"min\",\"\")\n",
    "    try:\n",
    "        df[\"imdbVotes\"]=df[\"imdbVotes\"].str.replace(\",\",\"\")\n",
    "    except:\n",
    "        pass\n",
    "    for e in df.columns:\n",
    "        if \"movie\" or \"Actor\" in e:\n",
    "            df[e] = df[e].replace(\"error\",\"0\")\n",
    "    cla_enc = pd.get_dummies(df[\"classification\"])\n",
    "    df = df.drop([\"classification\",\"Genre\",\"Language\",\"Country\"],axis=1)\n",
    "    \n",
    "    for i in df.columns:\n",
    "        try:\n",
    "            df[i] =pd.to_numeric(df[i], downcast='float')\n",
    "            #df[\"budget_in_USD\"] = np.log(df[\"budget_in_USD\"])\n",
    "        except:\n",
    "            pass\n",
    "                \n",
    "    \n",
    "    #df[\"Production\"] = np.log(df[\"Production\"])   \n",
    "    df[\"Theater_num\"] = np.log(df[\"Theater_num\"]) \n",
    "    df = pd.concat([df.reset_index(drop=True),genre_enc.reset_index(drop=True),\n",
    "                    country_enc.reset_index(drop=True),language_enc.reset_index(drop=True),\n",
    "                    cla_enc.reset_index(drop=True)\n",
    "                    ],\n",
    "                    axis=1) \n",
    "    \n",
    "    \n",
    "    \n",
    "    feature = ['budget_in_USD','Production','imdbVotes','IMDBscore','TomatoesScore','Metascore','Theater_num',\n",
    " 'movie_2_before','movie_1_before','movie_0_before',\n",
    " 'Actor_2_before','Actor_1_before','Actor_0_before','Runtime','g_Action','g_Adventure','g_Animation','g_Biography',\n",
    " 'g_Comedy','g_Crime','g_Drama','g_Family','g_Fantasy','g_History',\n",
    " 'g_Horror','g_Music','g_Musical','g_Mystery','g_Romance','g_Sci-Fi',\n",
    " 'g_Sport','g_Thriller','g_War','g_Western','L_Algeria','L_Angola','L_Argentina','L_Australia',\n",
    " 'L_Austria','L_Belgium','L_BosniaandHerzegovina','L_Botswana','L_Brazil','L_BritishVirginIslands','L_Bulgaria','L_Cambodia',\n",
    " 'L_Canada','L_CaymanIslands','L_Chile','L_China','L_Colombia',\n",
    " 'L_Croatia','L_Cyprus','L_CzechRepublic','L_Denmark','L_Egypt','L_Estonia','L_Finland','L_France','L_Georgia',\n",
    " 'L_Germany','L_Greece','L_HongKong','L_Hungary','L_Iceland','L_India','L_Indonesia','L_Iran',\n",
    " 'L_Ireland','L_IsleOfMan','L_Israel','L_Italy','L_Japan','L_Jordan','L_Kazakhstan','L_Kenya','L_Lebanon','L_Liechtenstein',\n",
    " 'L_Lithuania','L_Luxembourg','L_Malta','L_Mexico','L_Monaco','L_Mongolia','L_Morocco',\n",
    " 'L_Myanmar','L_Nepal','L_Netherlands','L_NewZealand','L_Nigeria','L_Norway','L_Palestine','L_Panama','L_Paraguay','L_Peru',\n",
    " 'L_Philippines','L_Poland','L_Portugal','L_PuertoRico','L_Qatar','L_Romania','L_Russia','L_SaudiArabia','L_Serbia','L_Singapore','L_Slovakia',\n",
    " 'L_Slovenia','L_SouthAfrica','L_SouthKorea','L_Spain','L_Sweden','L_Switzerland','L_Taiwan','L_Thailand',\n",
    " 'L_Tunisia','L_Turkey','L_UK','L_USA','L_Ukraine','L_UnitedArabEmirates','L_Uruguay','L_Venezuela','L_Vietnam','G','NC-17','NotRated','PG',\n",
    " 'PG-13','R','TV-14','TV-MA','TV-PG','Unrated']\n",
    "    \n",
    "    #feature2 = ['IMDBscore','TV-MA','g_Action','L_Canada','L_HongKong','L_Mexico','L_Jordan','L_India','movie_2_before','L_Chile','L_Peru',\n",
    "    # 'g_Crime','g_Comedy','L_Denmark','L_Venezuela','L_Mongolia','L_Portugal','Actor_1_before','g_Music','L_Iran','L_Cyprus','NotRated',\n",
    "    # 'L_BritishVirginIslands','L_CaymanIslands','L_Iceland','L_Kazakhstan','L_Romania','L_Palestine','TomatoesScore','L_Philippines','L_SaudiArabia',\n",
    "    # 'L_Argentina','budget_in_USD','L_Italy','L_Netherlands','L_Spain','L_UK','g_Drama','L_Malta','Unrated','L_Singapore','L_France',\n",
    "    # 'L_Austria','L_Egypt','L_Kenya','runtime','g_Romance','L_Switzerland','L_SouthAfrica','imdbVotes','L_Lithuania','g_Sport',\n",
    "    # 'movie_0_before','TV-14','L_Slovenia','movie_1_before','L_Nigeria','L_PuertoRico','Actor_2_before','L_Japan','L_Indonesia','g_Fantasy',\n",
    "    # 'L_Israel','NC-17','L_Bulgaria','L_Luxembourg','L_Estonia','L_Algeria','g_Musical','L_IsleOfMan','L_Poland','L_Ireland','Actor_0_before',\n",
    "    # 'g_War','L_Paraguay','L_Cambodia','Metascore','L_Monaco','L_Angola','L_Turkey','L_Georgia','L_Serbia','L_Panama','Production','L_Australia',\n",
    "    # 'L_Colombia','g_Adventure','PG','L_Uruguay','PG-13','g_History','L_Morocco','L_Hungary','L_Myanmar','L_Ukraine','G','TV-PG','g_Horror',\n",
    "    # 'L_Brazil','R','L_Vietnam','L_Lebanon','L_Belgium','g_Sci-Fi','L_Botswana','g_Western','L_Tunisia','L_BosniaandHerzegovina','L_Qatar',\n",
    "    # 'g_Thriller','L_Finland','L_Russia','g_Biography','L_SouthKorea','L_Germany','L_Liechtenstein','L_NewZealand','L_Thailand','g_Animation',\n",
    "    # 'L_Croatia','L_Greece','L_Sweden','L_UnitedArabEmirates','L_CzechRepublic','L_USA','g_Mystery','L_Taiwan','L_Nepal','L_Slovakia',\n",
    "    # 'L_Norway','g_Family','Theater_num','L_China']\n",
    "    \n",
    "    data = [0]*len(feature)\n",
    "    df_model = pd.DataFrame(data=[data],columns=feature)\n",
    "    df_model.update(df)\n",
    "#    feature_list = [\"f\"+str(i) for i in range(len(feature))]\n",
    "#    df_model.columns = feature_list\n",
    "    #for f in feature2:\n",
    "    #    if f not in df.columns.tolist():\n",
    "    #        df_append = pd.DataFrame.from_dict({f:[0]})\n",
    "    #        df=pd.concat([df,df_append],axis=1)\n",
    "    #import joblib\n",
    "    #xgb = joblib.load(\"modeltest\")\n",
    "    import pickle\n",
    "    loaded_model = pickle.load(open(\"loss.pickle.dat\", \"rb\"))\n",
    "    y_pred = loaded_model.predict(df_model)\n",
    "    y_pred = np.exp(y_pred)\n",
    "    return y_pred\n",
    "\n",
    "def predict_gain(m):\n",
    "\n",
    "    import pandas as pd\n",
    "    import numpy as np\n",
    "    import re\n",
    "    import xgboost as xgb\n",
    "\n",
    "    \n",
    "    wanted_keys={\"Runtime\",\"budget_in_USD\",\"Production\",\"imdbVotes\",\"IMDBscore\",\"TomatoesScore\",\"Metascore\",\"Theater_num\",\n",
    "                 \"movie_2_before\",\"movie_1_before\",\"movie_0_before\",\"Actor_2_before\",\"Actor_1_before\",\"Actor_0_before\",\n",
    "                 \"Genre\",\"Language\",\"Country\",\"classification\"}\n",
    "    \n",
    "    wanted_dict  = {key : [val] for key ,val in m.items() if key in wanted_keys}\n",
    "    df_company = pd.read_csv(\"company_detail.csv\")\n",
    "    company_dict = {}\n",
    "    for i, s in df_company.iterrows():\n",
    "        company_dict[s[\"company\"]] = s[\"avg\"]\n",
    "    key = list(company_dict.keys())\n",
    "    \n",
    "    regex_pat = re.compile(r\"[^a-zA-Z0-9]+\", flags=re.IGNORECASE)\n",
    "    wanted_dict[\"Production\"][0] = re.sub(regex_pat,'', wanted_dict[\"Production\"][0]).lower()\n",
    "    wanted_dict[\"Production\"] = wanted_dict[\"Production\"][0]\n",
    "    for x in key:\n",
    "        if wanted_dict[\"Production\"].find(x) != -1:\n",
    "           wanted_dict[\"Production\"] = company_dict[wanted_dict[\"Production\"]] \n",
    "           break \n",
    "    #print(\"type\",type(wanted_dict[\"Production\"]),type(wanted_dict[\"Production\"]) == 'str',wanted_dict[\"Production\"])\n",
    "    if type(wanted_dict[\"Production\"]) == str:\n",
    "        wanted_dict[\"Production\"]= 200000\n",
    "    \n",
    "    df = pd.DataFrame.from_dict(wanted_dict)        \n",
    "    cleaned = df.Genre.str.split(',', expand=True).stack()\n",
    "    cleaned = cleaned.apply(lambda x:x.replace(\" \",\"\"))\n",
    "    genre_enc = pd.get_dummies(cleaned, prefix='g').groupby(level=0,sort=False).sum()\n",
    "    \n",
    "    cleaned = df.Language.str.split(',', expand=True).stack()\n",
    "    cleaned = cleaned.apply(lambda x:x.replace(\" \",\"\"))\n",
    "    #drop_lang = (cleaned.value_counts()[cleaned.value_counts()<=5]).index.tolist()\n",
    "    #for l in range(len(cleaned)):\n",
    "    #    if cleaned.iloc[l] in drop_lang:\n",
    "    #        cleaned.iloc[l] = \"Other_language\"\n",
    "    language_enc = pd.get_dummies(cleaned, prefix='L').groupby(level=0,sort=False).sum()\n",
    "    \n",
    "    cleaned = df.Country.str.split(',', expand=True).stack()\n",
    "    cleaned = cleaned.apply(lambda x:x.replace(\" \",\"\"))\n",
    "    country_enc = pd.get_dummies(cleaned, prefix='L').groupby(level=0,sort=False).sum()   \n",
    "        \n",
    "    df[\"Runtime\"] = df[\"Runtime\"].str.replace(\"min\",\"\")\n",
    "    try:\n",
    "        df[\"imdbVotes\"]=df[\"imdbVotes\"].str.replace(\",\",\"\")\n",
    "    except:\n",
    "        pass\n",
    "    for e in df.columns:\n",
    "        if \"movie\" or \"Actor\" in e:\n",
    "            df[e] = df[e].replace(\"error\",\"0\")\n",
    "    cla_enc = pd.get_dummies(df[\"classification\"])\n",
    "    df = df.drop([\"classification\",\"Genre\",\"Language\",\"Country\"],axis=1)\n",
    "    \n",
    "    for i in df.columns:\n",
    "\n",
    "        try:\n",
    "            df[i] =pd.to_numeric(df[i], downcast='float')\n",
    "            #df[\"budget_in_USD\"] = np.log(df[\"budget_in_USD\"])\n",
    "        except:\n",
    "            pass\n",
    "        \n",
    "    \n",
    "    #df[\"Production\"] = np.log(df[\"Production\"])   \n",
    "    df[\"Theater_num\"] = np.log(df[\"Theater_num\"]) \n",
    "    df = pd.concat([df.reset_index(drop=True),genre_enc.reset_index(drop=True),\n",
    "                    country_enc.reset_index(drop=True),language_enc.reset_index(drop=True),\n",
    "                    cla_enc.reset_index(drop=True)\n",
    "                    ],\n",
    "                    axis=1) \n",
    "    \n",
    "    \n",
    "    \n",
    "    feature = ['budget_in_USD', 'Production', 'imdbVotes', 'IMDBscore',\n",
    "       'TomatoesScore', 'Metascore', 'Theater_num', 'movie_2_before',\n",
    "       'movie_1_before', 'movie_0_before', 'Actor_2_before', 'Actor_1_before',\n",
    "       'Actor_0_before', 'Runtime', 'g_Action', 'g_Adventure', 'g_Animation',\n",
    "       'g_Biography', 'g_Comedy', 'g_Crime', 'g_Drama', 'g_Family',\n",
    "       'g_Fantasy', 'g_History', 'g_Horror', 'g_Music', 'g_Musical',\n",
    "       'g_Mystery', 'g_Romance', 'g_Sci-Fi', 'g_Sport', 'g_Thriller', 'g_War',\n",
    "       'g_Western', 'L_Argentina', 'L_Australia', 'L_Austria', 'L_Bahamas',\n",
    "       'L_Belgium', 'L_Brazil', 'L_Bulgaria', 'L_Cambodia', 'L_Canada',\n",
    "       'L_Chile', 'L_China', 'L_Colombia', 'L_CzechRepublic', 'L_Denmark',\n",
    "       'L_DominicanRepublic', 'L_Finland', 'L_France', 'L_Germany', 'L_Greece',\n",
    "       'L_HongKong', 'L_Hungary', 'L_Iceland', 'L_India', 'L_Indonesia',\n",
    "       'L_Iran', 'L_Ireland', 'L_IsleOfMan', 'L_Israel', 'L_Italy', 'L_Japan',\n",
    "       'L_Kenya', 'L_Luxembourg', 'L_Malaysia', 'L_Malta', 'L_Mexico',\n",
    "       'L_Morocco', 'L_Netherlands', 'L_NewZealand', 'L_Norway',\n",
    "       'L_Philippines', 'L_Poland', 'L_Romania', 'L_Russia', 'L_Serbia',\n",
    "       'L_Singapore', 'L_Slovakia', 'L_SouthAfrica', 'L_SouthKorea', 'L_Spain',\n",
    "       'L_Sweden', 'L_Switzerland', 'L_Taiwan', 'L_Thailand', 'L_Turkey',\n",
    "       'L_UK', 'L_USA', 'L_Ukraine', 'L_UnitedArabEmirates', 'G', 'NotRated',\n",
    "       'PG', 'PG-13', 'R', 'Unrated']\n",
    "    \n",
    "    #feature2 = ['IMDBscore','TV-MA','g_Action','L_Canada','L_HongKong','L_Mexico','L_Jordan','L_India','movie_2_before','L_Chile','L_Peru',\n",
    "    # 'g_Crime','g_Comedy','L_Denmark','L_Venezuela','L_Mongolia','L_Portugal','Actor_1_before','g_Music','L_Iran','L_Cyprus','NotRated',\n",
    "    # 'L_BritishVirginIslands','L_CaymanIslands','L_Iceland','L_Kazakhstan','L_Romania','L_Palestine','TomatoesScore','L_Philippines','L_SaudiArabia',\n",
    "    # 'L_Argentina','budget_in_USD','L_Italy','L_Netherlands','L_Spain','L_UK','g_Drama','L_Malta','Unrated','L_Singapore','L_France',\n",
    "    # 'L_Austria','L_Egypt','L_Kenya','runtime','g_Romance','L_Switzerland','L_SouthAfrica','imdbVotes','L_Lithuania','g_Sport',\n",
    "    # 'movie_0_before','TV-14','L_Slovenia','movie_1_before','L_Nigeria','L_PuertoRico','Actor_2_before','L_Japan','L_Indonesia','g_Fantasy',\n",
    "    # 'L_Israel','NC-17','L_Bulgaria','L_Luxembourg','L_Estonia','L_Algeria','g_Musical','L_IsleOfMan','L_Poland','L_Ireland','Actor_0_before',\n",
    "    # 'g_War','L_Paraguay','L_Cambodia','Metascore','L_Monaco','L_Angola','L_Turkey','L_Georgia','L_Serbia','L_Panama','Production','L_Australia',\n",
    "    # 'L_Colombia','g_Adventure','PG','L_Uruguay','PG-13','g_History','L_Morocco','L_Hungary','L_Myanmar','L_Ukraine','G','TV-PG','g_Horror',\n",
    "    # 'L_Brazil','R','L_Vietnam','L_Lebanon','L_Belgium','g_Sci-Fi','L_Botswana','g_Western','L_Tunisia','L_BosniaandHerzegovina','L_Qatar',\n",
    "    # 'g_Thriller','L_Finland','L_Russia','g_Biography','L_SouthKorea','L_Germany','L_Liechtenstein','L_NewZealand','L_Thailand','g_Animation',\n",
    "    # 'L_Croatia','L_Greece','L_Sweden','L_UnitedArabEmirates','L_CzechRepublic','L_USA','g_Mystery','L_Taiwan','L_Nepal','L_Slovakia',\n",
    "    # 'L_Norway','g_Family','Theater_num','L_China']\n",
    "    \n",
    "    data = [0]*len(feature)\n",
    "    df_model = pd.DataFrame(data=[data],columns=feature)\n",
    "    df_model.update(df)\n",
    "#    feature_list = [\"f\"+str(i) for i in range(len(feature))]\n",
    "#    df_model.columns = feature_list\n",
    "    #for f in feature2:\n",
    "    #    if f not in df.columns.tolist():\n",
    "    #        df_append = pd.DataFrame.from_dict({f:[0]})\n",
    "    #        df=pd.concat([df,df_append],axis=1)\n",
    "    #import joblib\n",
    "    #xgb = joblib.load(\"modeltest\")\n",
    "    import pickle\n",
    "    loaded_model = pickle.load(open(\"gain.pickle.dat\", \"rb\"))\n",
    "    y_pred = loaded_model.predict(df_model)\n",
    "    y_pred = np.exp(y_pred)\n",
    "    return y_pred\n",
    "\n",
    "def run_model(t):#主程式\n",
    "    t = trends_for_line(t)\n",
    "    ans = model_yn(t)\n",
    "    if ans:\n",
    "       return(\"您會賺錢\",predict_gain(t))\n",
    "    else:\n",
    "       return(\"您會虧錢\",predict_loss(t))\n",
    "#if __name__ == \"__main__\":\n",
    "#    a,b=run_model(t)\n",
    "#    print(a, b)\n",
    "#    t={}\n",
    "#    print(model_yn(t))\n",
    "#    if model_yn(t) == 0:\n",
    "#        print(predict_loss(t))\n",
    "#    else:\n",
    "#        print(predict_gain(t))"
   ]
  },
  {
   "cell_type": "code",
   "execution_count": 63,
   "metadata": {},
   "outputs": [],
   "source": [
    "'''\n",
    "建立comfirm template\n",
    "'''\n",
    "from linebot.models import *\n",
    "comfirm_message = TemplateSendMessage(\n",
    "    alt_text='this is a confirm template',\n",
    "        template=ConfirmTemplate(\n",
    "            title='這是ConfirmTemplate',\n",
    "            text='以上是您輸入的訊息，若訊息無誤請按下確認',\n",
    "            actions=[                              \n",
    "                {\n",
    "        \"type\": \"message\",\n",
    "        \"label\": \"是的沒錯\",\n",
    "        \"text\": \"::text::是的沒錯\"\n",
    "      },\n",
    "      {\n",
    "        \"type\": \"message\",\n",
    "        \"label\": \"我想更改\",\n",
    "        \"text\": \"::text::我想要更改\"\n",
    "      }\n",
    "            ]\n",
    "        )\n",
    ")\n",
    "\n",
    "\n"
   ]
  },
  {
   "cell_type": "code",
   "execution_count": 64,
   "metadata": {},
   "outputs": [],
   "source": [
    "\"\"\"\n",
    "\n",
    "啟用伺服器基本樣板\n",
    "\n",
    "\"\"\"\n",
    "\n",
    "# 引用Web Server套件\n",
    "from flask import Flask, request, abort\n",
    "\n",
    "# 從linebot 套件包裡引用 LineBotApi 與 WebhookHandler 類別\n",
    "from linebot import (\n",
    "    LineBotApi, WebhookHandler\n",
    ")\n",
    "\n",
    "# 引用無效簽章錯誤\n",
    "from linebot.exceptions import (\n",
    "    InvalidSignatureError\n",
    ")\n",
    "\n",
    "# 載入json處理套件\n",
    "import json\n",
    "\n",
    "# 載入基礎設定檔\n",
    "secretFileContentJson=json.load(open(\"../line_secret_key\",'r'))\n",
    "server_url=secretFileContentJson.get(\"server_url\")\n",
    "\n",
    "# 設定Server啟用細節\n",
    "app = Flask(__name__,static_url_path = \"/images\" , static_folder = \"../images/\")\n",
    "\n",
    "# 生成實體物件\n",
    "line_bot_api = LineBotApi(secretFileContentJson.get(\"channel_access_token\"))\n",
    "handler = WebhookHandler(secretFileContentJson.get(\"secret_key\"))\n",
    "\n",
    "# 啟動server對外接口，使Line能丟消息進來\n",
    "@app.route(\"/\", methods=['POST'])\n",
    "def callback():\n",
    "    # get X-Line-Signature header value\n",
    "    signature = request.headers['X-Line-Signature']\n",
    "\n",
    "    # get request body as text\n",
    "    body = request.get_data(as_text=True)\n",
    "    app.logger.info(\"Request body: \" + body)\n",
    "\n",
    "    # handle webhook body\n",
    "    try:\n",
    "        handler.handle(body, signature)\n",
    "    except InvalidSignatureError:\n",
    "        abort(400)\n",
    "\n",
    "    return 'OK'"
   ]
  },
  {
   "cell_type": "code",
   "execution_count": 65,
   "metadata": {},
   "outputs": [],
   "source": [
    "'''\n",
    "建立表單所需要的問題\n",
    "'''\n",
    "from linebot.models import *\n",
    "quation_dict={\n",
    "'q1':TextSendMessage(text=\"1.請告訴我電影名稱\\n Ex: Iron man 3\"),\n",
    "'q2':TextSendMessage(text=\"2.請告訴我電影時間長度\\n Ex:140min\\n若數字為小數請四捨五入\"),\n",
    "'q3':TextSendMessage(text=\"3.請告訴我您的預算?\\n Ex:5000000\\n若數字為小數請四捨五入\"),\n",
    "'q4':TextSendMessage(text=\"4.請告訴我製片商?\\n Ex:20th Century Fox\"),\n",
    "'q5':TextSendMessage(text=\"5.請告訴我imdb的票數?\\n Ex:55\\n若數字為小數請四捨五入\"),\n",
    "'q6':TextSendMessage(text=\"6.請告訴我imdb的分數?\\n Ex:9\\n若數字為小數請四捨五入\"),\n",
    "'q7':TextSendMessage(text=\"7.請告訴我爛番茄的分數?\\n Ex:8\\n若數字為小數請四捨五入\"),\n",
    "'q8':TextSendMessage(text=\"8.請告訴我您會上映的電影院數?\\n Ex:475\\n若數字為小數請四捨五入\"),\n",
    "'q9':TextSendMessage(text=\"9.請告訴我您電影的種類?\\n Ex:Adventure\"),\n",
    "'q10':TextSendMessage(text=\"10.請告訴我電影的語言?\\n Ex:English\"),\n",
    "'q11':TextSendMessage(text=\"11.請告訴我電影製作的國家?\\n Ex:USA\"),\n",
    "'q12':TextSendMessage(text=\"12.請告訴我電影的分級?\\n Ex:PG-13\"),\n",
    "'q13':TextSendMessage(text=\"13.請告訴我電影的Metascore?\\n Ex:5\\n若數字為小數請四捨五入\"),\n",
    "'q14':TextSendMessage(text=\"14.請告訴我電影的預計上印日期?\\n Ex:01 JUN 2019\"),\n",
    "'q15':TextSendMessage(text=\"15.請告訴我主要三個演員?\\n EX:Robert Downey Jr,Chris Evans,Scarlett Johansson\")}\n",
    "remind = TextSendMessage(texr=\"不好意思，請您依照提示格式輸入\")"
   ]
  },
  {
   "cell_type": "code",
   "execution_count": 66,
   "metadata": {},
   "outputs": [],
   "source": [
    "#設定預測方面所需要的功能\n",
    "import re\n",
    "from linebot.models import *\n",
    "class_ =[\"G\",\"PG\",\"PG13\",\"R\",\"NC17\"]\n",
    "number_re = re.compile(\"\\D\")\n",
    "character_re = re.compile(\"\\d\")\n",
    "min_re = re.compile('min')\n",
    "count = 0\n",
    "model_dict={}\n",
    "quation_list = [\"movie_name\",\"Runtime\",\"budget_in_USD\",\"Production\",\"imdbVotes\",\"IMDBscore\",\"TomatoesScore\",\n",
    "                \"Theater_num\",\"Genre\",\"Language\",\"Country\",\"classification\",\"Metascore\",\"Released\",\"actor\"]\n",
    "model_list = []"
   ]
  },
  {
   "cell_type": "code",
   "execution_count": 67,
   "metadata": {},
   "outputs": [],
   "source": [
    "storage = {}\n",
    "def predict_text(event):\n",
    "    text = event.message.text\n",
    "    #選擇進入後，進行richmenu的轉換，並且傳送第一個問題\n",
    "    if text == \"::text:: 我要精準預測\":\n",
    "        # 取出用戶id，設定Line的遠端位置\n",
    "        userMenuEndpoint='https://api.line.me/v2/bot/user/%s/richmenu' % (secretFileContentJson[\"self_user_id\"])\n",
    "        # 設定消息的基本安全憑證\n",
    "        userMenuRequestHeader={'Authorization':'Bearer %s' % secretFileContentJson[\"channel_access_token\"]}\n",
    "        # 發送消息告知已經解除\n",
    "        lineUnregisterUserMenuResponse=requests.delete(userMenuEndpoint,headers=userMenuRequestHeader)\n",
    "        # 取得菜單id\n",
    "        linkRichMenuId2=secretFileContentJson.get(\"rich_menu_id2\")\n",
    "        # 將菜單id與用戶id組合成遠端位置\n",
    "        linkMenuEndpoint2='https://api.line.me/v2/bot/user/%s/richmenu/%s' % (secretFileContentJson[\"self_user_id\"], linkRichMenuId2)\n",
    "        # 設定消息基本安全憑證\n",
    "        linkMenuRequestHeader2={'Content-Type':'image/jpeg','Authorization':'Bearer %s' % secretFileContentJson[\"channel_access_token\"]}\n",
    "        # 發送消息\n",
    "        lineLinkMenuResponse2=requests.post(linkMenuEndpoint2,headers=linkMenuRequestHeader2)\n",
    "        #並且發送問文字訊息\n",
    "        reply_text = \"您好，歡迎使用我們的電影預測系統，以下是我們預測所需要的變數，請您幫忙依照例子回答!! \\n並請在所有回答中加上'::q+題目號::'，以方便我們確認是哪一題喔\"\n",
    "        message_first_predict_list = [TextSendMessage(reply_text),quation_dict.get('q1')]\n",
    "        line_bot_api.reply_message(\n",
    "            event.reply_token,\n",
    "            message_first_predict_list\n",
    "        )\n",
    "    elif (text.find('::q')!= -1):\n",
    "        text_split = text.split(\"::\")\n",
    "        number = int(text.split(\"::\")[1].replace('q','q_').split(\"_\")[1])\n",
    "        answer = text_split[2]\n",
    "        if number in [3,5,8]:\n",
    "            if number_re.search(answer.replace(\" \",\"\")) == None:\n",
    "                sto_num = number-1\n",
    "                storage[quation_list[sto_num]]=answer\n",
    "                next_num = number+1\n",
    "                quation_num = 'q'+str(next_num)\n",
    "                line_bot_api.reply_message(event.reply_token,quation_dict.get(quation_num))\n",
    "            else:\n",
    "                line_bot_api.reply_message(\n",
    "                    event.reply_token,\n",
    "                    quation_dict.get(text_split[1]))\n",
    "        elif number == 2:\n",
    "            if min_re.search(answer.replace(\" \",\"\")) != None:\n",
    "                sto_num = number-1\n",
    "                storage[quation_list[sto_num]]=answer\n",
    "                next_num = number+1\n",
    "                quation_num = 'q'+str(next_num)\n",
    "                line_bot_api.reply_message(event.reply_token,quation_dict.get(quation_num))\n",
    "            else:\n",
    "                line_bot_api.reply_message(\n",
    "                    event.reply_token,\n",
    "                    quation_dict.get(text_split[1]))\n",
    "        elif number in [6,7,13]:\n",
    "            if number_re.search(answer.replace(\" \",\"\")) == None:\n",
    "                sto_num = number-1\n",
    "                storage[quation_list[sto_num]]=round(float(answer.replace(\" \",\"\"))/10,1)\n",
    "                next_num = number+1\n",
    "                quation_num = 'q'+str(next_num)\n",
    "                line_bot_api.reply_message(event.reply_token,quation_dict.get(quation_num))\n",
    "            else:\n",
    "                line_bot_api.reply_message(\n",
    "                    event.reply_token,\n",
    "                    quation_dict.get(text_split[1]))\n",
    "            \n",
    "        elif number in [9,10,11]:\n",
    "            if character_re.search(answer) == None:\n",
    "                sto_num = number-1\n",
    "                storage[quation_list[sto_num]]=answer\n",
    "                next_num = number+1\n",
    "                quation_num = 'q'+str(next_num)\n",
    "                line_bot_api.reply_message(event.reply_token,quation_dict.get(quation_num))\n",
    "            else:\n",
    "                line_bot_api.reply_message(\n",
    "                    event.reply_token,\n",
    "                    quation_dict.get(text_split[1]))\n",
    "        elif number ==12:\n",
    "            if answer in class_:\n",
    "                sto_num = number-1\n",
    "                storage[quation_list[sto_num]]=answer\n",
    "                next_num = number+1\n",
    "                quation_num = 'q'+str(next_num)\n",
    "                line_bot_api.reply_message(event.reply_token,quation_dict.get(quation_num))\n",
    "            else:\n",
    "                line_bot_api.reply_message(\n",
    "                    event.reply_token,\n",
    "                    quation_dict.get(text_split[1]))\n",
    "        elif number in [1,4,14]:\n",
    "            sto_num = number-1\n",
    "            storage[quation_list[sto_num]]=answer\n",
    "            next_num = number+1\n",
    "            quation_num = 'q'+str(next_num)\n",
    "            line_bot_api.reply_message(event.reply_token,quation_dict.get(quation_num))\n",
    "        elif number ==15:\n",
    "            sto_num = number-1\n",
    "            storage[quation_list[sto_num]]=answer\n",
    "            print(storage)\n",
    "            \n",
    "            message_final_list = [TextSendMessage(text='以下是您填寫的資訊，若確認無誤請點下幫確認鍵'),\n",
    "                                  TextSendMessage(text=str(storage)),\n",
    "                                  comfirm_message]\n",
    "            line_bot_api.reply_message(event.reply_token,message_final_list)\n",
    "            \n",
    "    elif text == '::text::是的沒錯':\n",
    "        a,b =run_model(storage)\n",
    "        print(type(a),type(b))\n",
    "        text_final = a + '您的票房預估:'+str(b[0])\n",
    "        if a == '您會虧錢':\n",
    "            line_bot_api.reply_message(event.reply_token,TextSendMessage(text=text_final))\n",
    "        else:\n",
    "            line_bot_api.reply_message(event.reply_token,TextSendMessage(text=text_final))\n",
    "            \n",
    "    elif text ==':text::我想要更改':\n",
    "        line_bot_api.reply_message(event.reply_token,quation_dict.get('q1'))\n",
    "        \n",
    "            \n",
    "            \n",
    "                \n",
    "        \n",
    "    # 設定richmenu的功能\n",
    "    elif text ==\"::text:: 我填錯了想重來~\":\n",
    "        line_bot_api.reply_message(\n",
    "        event.reply_token,\n",
    "        quation_dict.get('q1'))\n",
    "    # 設定錯誤回答的答案\n",
    "    else:\n",
    "        line_bot_api.reply_message(\n",
    "        event.reply_token,\n",
    "        TextSendMessage(text=\"請點擊下方表單功能\"))\n",
    "    "
   ]
  },
  {
   "cell_type": "code",
   "execution_count": 68,
   "metadata": {},
   "outputs": [
    {
     "data": {
      "text/plain": [
       "'\\n\\n\\n當用戶關注Line@後，Line會發一個FollowEvent，\\n\\n我們接受到之後，取得用戶個資，對用戶綁定自定義菜單，會回傳四個消息給用戶\\n\\n\\n'"
      ]
     },
     "execution_count": 68,
     "metadata": {},
     "output_type": "execute_result"
    }
   ],
   "source": [
    "\"\"\"\n",
    "\n",
    "\n",
    "當用戶關注Line@後，Line會發一個FollowEvent，\n",
    "\n",
    "我們接受到之後，取得用戶個資，對用戶綁定自定義菜單，會回傳四個消息給用戶\n",
    "\n",
    "\n",
    "\"\"\""
   ]
  },
  {
   "cell_type": "code",
   "execution_count": 69,
   "metadata": {},
   "outputs": [],
   "source": [
    "'''\n",
    "\n",
    "製作文字與圖片的教學訊息\n",
    "\n",
    "'''\n",
    "# 將消息模型，文字收取消息與文字寄發消息 引入\n",
    "from linebot.models import (\n",
    "    MessageEvent, TextMessage, TextSendMessage, ImageSendMessage\n",
    ")\n",
    "\n",
    "#引入所需要的消息與模板消息\n",
    "from linebot.models import (\n",
    "    MessageEvent, TemplateSendMessage , PostbackEvent\n",
    ")\n",
    "\n",
    "#引入按鍵模板\n",
    "from linebot.models import (\n",
    "    MessageEvent, TextMessage, TextSendMessage,\n",
    "    SourceUser, SourceGroup, SourceRoom,\n",
    "    TemplateSendMessage, ConfirmTemplate, MessageAction,\n",
    "    ButtonsTemplate, ImageCarouselTemplate, ImageCarouselColumn, URIAction,\n",
    "    PostbackAction, DatetimePickerAction,\n",
    "    CameraAction, CameraRollAction, LocationAction,\n",
    "    CarouselTemplate, CarouselColumn, PostbackEvent,\n",
    "    StickerMessage, StickerSendMessage, LocationMessage, LocationSendMessage,\n",
    "    ImageMessage, VideoMessage, AudioMessage, FileMessage,\n",
    "    UnfollowEvent, FollowEvent, JoinEvent, LeaveEvent, BeaconEvent,\n",
    "    FlexSendMessage, BubbleContainer, ImageComponent, BoxComponent,\n",
    "    TextComponent, SpacerComponent, IconComponent, ButtonComponent,\n",
    "    SeparatorComponent, QuickReply, QuickReplyButton\n",
    ")\n",
    "# from linebot.models.template import(\n",
    "#     ButtonsTemplate,CarouselTemplate\n",
    "# )\n",
    "\n",
    "\n",
    "# 消息清單\n",
    "# reply_message_list = [\n",
    "# TextSendMessage(text=\"關注區塊鏈技術，掌握市場脈動。\"),\n",
    "#     TextSendMessage(text=\"人類所以充滿驚奇，在於人體那一精密又不可探究的系統。佈滿神經元的大腦，而後延展遍歷人體。\\n\\n區塊鏈就好比是人體那驚奇的神經系統，社會是我們的人身，在全身佈滿了神經後，造就了不可思量的奧妙生命。\\n\\n點選菜單，了解區塊鏈前世今生，以文字輸入 more，得到更多資訊。\"),\n",
    "#     ImageSendMessage(original_content_url='https://%s/images/003.jpeg' %server_url ,\n",
    "#     preview_image_url='https://%s/images/001.jpg' %server_url),\n",
    "#     ImageSendMessage(original_content_url='https://%s/images/004.png' %server_url,\n",
    "#     preview_image_url='https://%s/images/005.jpg' %server_url)\n",
    "# ]\n",
    "\n",
    "# 消息清單\n",
    "reply_message_list=[\n",
    "TextSendMessage(text=\"您好，我們是專業推薦電影的平台\"),\n",
    "TextSendMessage(text=\"我們平台分為兩個部分，可以為你不知道想要看什麼電影時，會根據你在平台填寫的興趣去為你推薦電影\\n 如果您是廠商，我們可以根據變數可以為你分析出您的電影票房\")\n",
    "]\n",
    "\n",
    "Carousel_template = TemplateSendMessage(\n",
    "        alt_text='Carousel template',\n",
    "        template=CarouselTemplate(\n",
    "        columns=[\n",
    "            CarouselColumn(\n",
    "                thumbnail_image_url=tag1_Form['m1_Poster'],\n",
    "                title=title_short(tag1_Form['m1_Title']),\n",
    "                text='簡介: '+Plot_short_from(tag1_Form['m1_Plot_short']),\n",
    "                actions=[\n",
    "                    {\n",
    "            \"type\": \"postback\",\n",
    "            \"label\": \"很喜歡\",\n",
    "            \"text\": \"1.對電影:\" + tag1_Form['m1_Title'] + \",表示很喜歡\",\n",
    "            \"data\": \"{'tag1':2}\"\n",
    "          },\n",
    "          {\n",
    "            \"type\": \"postback\",\n",
    "            \"label\": \"喜歡\",\n",
    "            \"text\": \"1.對電影:\" + tag1_Form['m1_Title'] + \",表示喜歡\",\n",
    "            \"data\": \"{'tag1':1}\"\n",
    "          },\n",
    "          {\n",
    "            \"type\": \"postback\",\n",
    "            \"label\": \"沒有感覺\",\n",
    "            \"text\": \"1.對電影:\" + tag1_Form['m1_Title'] + \",表示沒有感覺\",\n",
    "            \"data\": \"{'tag1':0}\"\n",
    "          }         \n",
    "                ]\n",
    "            ),\n",
    "            CarouselColumn(\n",
    "                thumbnail_image_url=tag3_Form['m1_Poster'],\n",
    "                title=title_short(tag3_Form['m1_Title']),\n",
    "                text='簡介: '+Plot_short_from(tag3_Form['m1_Plot_short']),\n",
    "                actions=[\n",
    "                    {\n",
    "            \"type\": \"postback\",\n",
    "            \"label\": \"很喜歡\",\n",
    "            \"text\": \"3.對電影:\" + tag3_Form['m1_Title'] + \",表示很喜歡\",\n",
    "            \"data\": \"{'tag3':2}\"\n",
    "          },\n",
    "          {\n",
    "            \"type\": \"postback\",\n",
    "            \"label\": \"喜歡\",\n",
    "            \"text\": \"3.對電影:\" + tag3_Form['m1_Title'] + \",表示喜歡\",\n",
    "            \"data\": \"{'tag3':1}\"\n",
    "          },\n",
    "          {\n",
    "            \"type\": \"postback\",\n",
    "            \"label\": \"沒有感覺\",\n",
    "            \"text\": \"3.對電影:\" + tag3_Form['m1_Title'] + \",表示沒有感覺\",\n",
    "            \"data\": \"{'tag3':0}\"\n",
    "          }         \n",
    "                ]\n",
    "            ),\n",
    "            CarouselColumn(\n",
    "                thumbnail_image_url=tag4_Form['m1_Poster'],\n",
    "                title=title_short(tag4_Form['m1_Title']),\n",
    "                text='簡介: '+Plot_short_from(tag4_Form['m1_Plot_short']),\n",
    "                actions=[\n",
    "                    {\n",
    "            \"type\": \"postback\",\n",
    "            \"label\": \"很喜歡\",\n",
    "            \"text\": \"4.對電影:\" + tag4_Form['m1_Title'] + \",表示很喜歡\",\n",
    "            \"data\": \"{'tag4':2}\"\n",
    "          },\n",
    "          {\n",
    "            \"type\": \"postback\",\n",
    "            \"label\": \"喜歡\",\n",
    "            \"text\": \"4.對電影:\" + tag4_Form['m1_Title'] + \",表示喜歡\",\n",
    "            \"data\": \"{'tag4':1}\"\n",
    "          },\n",
    "          {\n",
    "            \"type\": \"postback\",\n",
    "            \"label\": \"沒有感覺\",\n",
    "            \"text\": \"4.對電影:\" + tag4_Form['m1_Title'] + \",表示沒有感覺\",\n",
    "            \"data\": \"{'tag4':0}\"\n",
    "          }         \n",
    "                ]\n",
    "            ),\n",
    "            CarouselColumn(\n",
    "                thumbnail_image_url=tag5_Form['m1_Poster'],\n",
    "                title=title_short(tag5_Form['m1_Title']),\n",
    "                text='簡介: '+Plot_short_from(tag5_Form['m1_Plot_short']),\n",
    "                actions=[\n",
    "                    {\n",
    "            \"type\": \"postback\",\n",
    "            \"label\": \"很喜歡\",\n",
    "            \"text\": \"5.對電影:\" + tag5_Form['m1_Title'] + \",表示很喜歡\",\n",
    "            \"data\": \"{'tag5':2}\"\n",
    "          },\n",
    "          {\n",
    "            \"type\": \"postback\",\n",
    "            \"label\": \"喜歡\",\n",
    "            \"text\": \"5.對電影:\" + tag5_Form['m1_Title'] + \",表示喜歡\",\n",
    "            \"data\": \"{'tag5':1}\"\n",
    "          },\n",
    "          {\n",
    "            \"type\": \"postback\",\n",
    "            \"label\": \"沒有感覺\",\n",
    "            \"text\": \"5.對電影:\" + tag5_Form['m1_Title'] + \",表示沒有感覺\",\n",
    "            \"data\": \"{'tag5':0}\"\n",
    "          }         \n",
    "                ]\n",
    "            ),\n",
    "            CarouselColumn(\n",
    "                thumbnail_image_url=tag6_Form['m1_Poster'],\n",
    "                title=title_short(tag6_Form['m1_Title']),\n",
    "                text='簡介: '+Plot_short_from(tag6_Form['m1_Plot_short']),\n",
    "                actions=[\n",
    "                    {\n",
    "            \"type\": \"postback\",\n",
    "            \"label\": \"很喜歡\",\n",
    "            \"text\": \"6.對電影:\" + tag6_Form['m1_Title'] + \",表示很喜歡\",\n",
    "            \"data\": \"{'tag6':2}\"\n",
    "          },\n",
    "          {\n",
    "            \"type\": \"postback\",\n",
    "            \"label\": \"喜歡\",\n",
    "            \"text\": \"6.對電影:\" + tag6_Form['m1_Title'] + \",表示喜歡\",\n",
    "            \"data\": \"{'tag6':1}\"\n",
    "          },\n",
    "          {\n",
    "            \"type\": \"postback\",\n",
    "            \"label\": \"沒有感覺\",\n",
    "            \"text\": \"6.對電影:\" + tag6_Form['m1_Title'] + \",表示沒有感覺\",\n",
    "            \"data\": \"{'tag6':0}\"\n",
    "          }         \n",
    "                ]\n",
    "            ),\n",
    "            CarouselColumn(\n",
    "                thumbnail_image_url=tag7_Form['m1_Poster'],\n",
    "                title=title_short(tag7_Form['m1_Title']),\n",
    "                text='簡介: '+Plot_short_from(tag7_Form['m1_Plot_short']),\n",
    "                actions=[\n",
    "                    {\n",
    "            \"type\": \"postback\",\n",
    "            \"label\": \"很喜歡\",\n",
    "            \"text\": \"7.對電影:\" + tag7_Form['m1_Title'] + \",表示很喜歡\",\n",
    "            \"data\": \"{'tag7':2}\"\n",
    "          },\n",
    "          {\n",
    "            \"type\": \"postback\",\n",
    "            \"label\": \"喜歡\",\n",
    "            \"text\": \"7.對電影:\" + tag7_Form['m1_Title'] + \",表示喜歡\",\n",
    "            \"data\": \"{'tag7':1}\"\n",
    "          },\n",
    "          {\n",
    "            \"type\": \"postback\",\n",
    "            \"label\": \"沒有感覺\",\n",
    "            \"text\": \"7.對電影:\" + tag7_Form['m1_Title'] + \",表示沒有感覺\",\n",
    "            \"data\": \"{'tag7':0}\"\n",
    "          }         \n",
    "                ]\n",
    "            ),\n",
    "            CarouselColumn(\n",
    "                thumbnail_image_url=tag8_Form['m1_Poster'],\n",
    "                title=title_short(tag8_Form['m1_Title']),\n",
    "                text='簡介: '+Plot_short_from(tag8_Form['m1_Plot_short']),\n",
    "                actions=[\n",
    "                    {\n",
    "            \"type\": \"postback\",\n",
    "            \"label\": \"很喜歡\",\n",
    "            \"text\": \"8.對電影:\" + tag8_Form['m1_Title'] + \",表示很喜歡\",\n",
    "            \"data\": \"{'tag8':2}\"\n",
    "          },\n",
    "          {\n",
    "            \"type\": \"postback\",\n",
    "            \"label\": \"喜歡\",\n",
    "            \"text\": \"8.對電影:\" + tag8_Form['m1_Title'] + \",表示喜歡\",\n",
    "            \"data\": \"{'tag8':1}\"\n",
    "          },\n",
    "          {\n",
    "            \"type\": \"postback\",\n",
    "            \"label\": \"沒有感覺\",\n",
    "            \"text\": \"8.對電影:\" + tag8_Form['m1_Title'] + \",表示沒有感覺\",\n",
    "            \"data\": \"{'tag8':0}\"\n",
    "          }         \n",
    "                ]\n",
    "            ),\n",
    "            CarouselColumn(\n",
    "                thumbnail_image_url=tag9_Form['m1_Poster'],\n",
    "                title=title_short(tag9_Form['m1_Title']),\n",
    "                text='簡介: '+Plot_short_from(tag9_Form['m1_Plot_short']),\n",
    "                actions=[\n",
    "                    {\n",
    "            \"type\": \"postback\",\n",
    "            \"label\": \"很喜歡\",\n",
    "            \"text\": \"9.對電影:\" + tag9_Form['m1_Title'] + \",表示很喜歡\",\n",
    "            \"data\": \"{'tag9':2}\"\n",
    "          },\n",
    "          {\n",
    "            \"type\": \"postback\",\n",
    "            \"label\": \"喜歡\",\n",
    "            \"text\": \"9.對電影:\" + tag9_Form['m1_Title'] + \",表示喜歡\",\n",
    "            \"data\": \"{'tag9':1}\"\n",
    "          },\n",
    "          {\n",
    "            \"type\": \"postback\",\n",
    "            \"label\": \"沒有感覺\",\n",
    "            \"text\": \"9.對電影:\" + tag9_Form['m1_Title'] + \",表示沒有感覺\",\n",
    "            \"data\": \"{'tag9':0}\"\n",
    "          }         \n",
    "                ]\n",
    "            )\n",
    "        ]\n",
    "    )\n",
    "    )"
   ]
  },
  {
   "cell_type": "code",
   "execution_count": 70,
   "metadata": {},
   "outputs": [],
   "source": [
    "# tag_home_final[0]['m2_Title']\n",
    "# tag_home_final[0]['m2_Poster']\n",
    "#     print(tag_home_final[0]['m2_Title'])\n",
    "#     print(tag_home_final[0]['m2_Plot_short'])\n",
    "#     print(tag_home_final[0]['m2_Poster'])\n",
    "#     print(tag_home_final[0]['m2_Actors'])\n",
    "def home_movie_1(tag_home_final):\n",
    "    home_movie = TemplateSendMessage(\n",
    "            alt_text='Carousel template',\n",
    "            template=CarouselTemplate(\n",
    "            columns=[\n",
    "                CarouselColumn(\n",
    "                    thumbnail_image_url=tag_home_final[0]['m2_Poster'],\n",
    "                    title=title_short(tag_home_final[0]['m2_Title']),\n",
    "                    text='1',\n",
    "                    actions=[\n",
    "                        {\n",
    "                \"type\": \"postback\",\n",
    "                \"label\": \"演員\",\n",
    "                \"text\": \"1..\" + tag_home_final[0]['m2_Title'] + \"電影的演員\",\n",
    "                \"data\": \"{'tagActors_home':0}\"\n",
    "              },\n",
    "              {\n",
    "                \"type\": \"postback\",\n",
    "                \"label\": \"劇情介紹\",\n",
    "                \"text\": \"1..\" + tag_home_final[0]['m2_Title'] + \"電影劇情介紹\",\n",
    "                \"data\": \"{'tagPlot_short_home':0}\"\n",
    "              }      \n",
    "                    ]\n",
    "                ),\n",
    "                CarouselColumn(\n",
    "                    thumbnail_image_url=tag_home_final[1]['m2_Poster'],\n",
    "                    title=title_short(tag_home_final[1]['m2_Title']),\n",
    "                    text='2',\n",
    "                    actions=[\n",
    "                        {\n",
    "                \"type\": \"postback\",\n",
    "                \"label\": \"演員\",\n",
    "                \"text\": \"2..\" + tag_home_final[1]['m2_Title'] + \"電影的演員\",\n",
    "                \"data\": \"{'tagActors_home':1}\"\n",
    "              },\n",
    "              {\n",
    "                \"type\": \"postback\",\n",
    "                \"label\": \"劇情介紹\",\n",
    "                \"text\": \"2..\" + tag_home_final[1]['m2_Title'] + \"電影劇情介紹\",\n",
    "                \"data\": \"{'tagPlot_short_home':1}\"\n",
    "              }      \n",
    "                    ]\n",
    "                ),\n",
    "                CarouselColumn(\n",
    "                    thumbnail_image_url=tag_home_final[2]['m2_Poster'],\n",
    "                    title=title_short(tag_home_final[2]['m2_Title']),\n",
    "                    text='3',\n",
    "                    actions=[\n",
    "                        {\n",
    "                \"type\": \"postback\",\n",
    "                \"label\": \"演員\",\n",
    "                \"text\": \"3..\" + tag_home_final[2]['m2_Title'] + \"電影的演員\",\n",
    "                \"data\": \"{'tagActors_home':2}\"\n",
    "              },\n",
    "              {\n",
    "                \"type\": \"postback\",\n",
    "                \"label\": \"劇情介紹\",\n",
    "                \"text\": \"3..\" + tag_home_final[2]['m2_Title'] + \"電影劇情介紹\",\n",
    "                \"data\": \"{'tagPlot_short_home':2}\"\n",
    "              }      \n",
    "                    ]\n",
    "                ),\n",
    "                CarouselColumn(\n",
    "                    thumbnail_image_url=tag_home_final[3]['m2_Poster'],\n",
    "                    title=title_short(tag_home_final[3]['m2_Title']),\n",
    "                    text='4',\n",
    "                    actions=[\n",
    "                        {\n",
    "                \"type\": \"postback\",\n",
    "                \"label\": \"演員\",\n",
    "                \"text\": \"4..\" + tag_home_final[3]['m2_Title'] + \"電影的演員\",\n",
    "                \"data\": \"{'tagActors_home':3}\"\n",
    "              },\n",
    "              {\n",
    "                \"type\": \"postback\",\n",
    "                \"label\": \"劇情介紹\",\n",
    "                \"text\": \"4..\" + tag_home_final[3]['m2_Title'] + \"電影劇情介紹\",\n",
    "                \"data\": \"{'tagPlot_short_home':3}\"\n",
    "              }      \n",
    "                    ]\n",
    "                ),\n",
    "                CarouselColumn(\n",
    "                    thumbnail_image_url=tag_home_final[4]['m2_Poster'],\n",
    "                    title=title_short(tag_home_final[4]['m2_Title']),\n",
    "                    text='5',\n",
    "                    actions=[\n",
    "                        {\n",
    "                \"type\": \"postback\",\n",
    "                \"label\": \"演員\",\n",
    "                \"text\": \"5..\" + tag_home_final[4]['m2_Title'] + \"電影的演員\",\n",
    "                \"data\": \"{'tagActors_home':4}\"\n",
    "              },\n",
    "              {\n",
    "                \"type\": \"postback\",\n",
    "                \"label\": \"劇情介紹\",\n",
    "                \"text\": \"5..\" + tag_home_final[4]['m2_Title'] + \"電影劇情介紹\",\n",
    "                \"data\": \"{'tagPlot_short_home':4}\"\n",
    "              }      \n",
    "                    ]\n",
    "                )\n",
    "           ]\n",
    "        )\n",
    "        )     \n",
    "    return home_movie"
   ]
  },
  {
   "cell_type": "code",
   "execution_count": 71,
   "metadata": {},
   "outputs": [],
   "source": [
    "Release_movie = TemplateSendMessage(\n",
    "        alt_text='Release_movie',\n",
    "        template=CarouselTemplate(\n",
    "        columns=[\n",
    "            CarouselColumn(\n",
    "                thumbnail_image_url='https://m.media-amazon.com/images/M/MV5BZmUwNGU2ZmItMmRiNC00MjhlLTg5YWUtODMyNzkxODYzMmZlXkEyXkFqcGdeQXVyNTIzOTk5ODM@._V1_SX300.jpg',\n",
    "                title='電影名稱:',\n",
    "                text='1',\n",
    "                actions=[\n",
    "                    {\n",
    "            \"type\": \"postback\",\n",
    "            \"label\": \"演員\",\n",
    "            \"text\": \"1.電影名稱:演員\",\n",
    "            \"data\": \"1\"\n",
    "          },\n",
    "          {\n",
    "            \"type\": \"postback\",\n",
    "            \"label\": \"劇情介紹\",\n",
    "            \"text\": \"1.電影名稱:劇情介紹\",\n",
    "            \"data\": \"1\"\n",
    "          },\n",
    "          {\n",
    "            \"type\": \"postback\",\n",
    "            \"label\": \"時刻表\",\n",
    "            \"text\": \"url\",\n",
    "            \"data\": \"1\"\n",
    "          }          \n",
    "                ]\n",
    "            ),\n",
    "            CarouselColumn(\n",
    "                thumbnail_image_url='https://m.media-amazon.com/images/M/MV5BZmUwNGU2ZmItMmRiNC00MjhlLTg5YWUtODMyNzkxODYzMmZlXkEyXkFqcGdeQXVyNTIzOTk5ODM@._V1_SX300.jpg',\n",
    "                title='電影名稱:',\n",
    "                text='2',\n",
    "                actions=[\n",
    "                    {\n",
    "            \"type\": \"postback\",\n",
    "            \"label\": \"演員\",\n",
    "            \"text\": \"電影名稱:演員\",\n",
    "            \"data\": \"1\"\n",
    "          },\n",
    "          {\n",
    "            \"type\": \"postback\",\n",
    "            \"label\": \"劇情介紹\",\n",
    "            \"text\": \"電影名稱:劇情介紹\",\n",
    "            \"data\": \"1\"\n",
    "          },\n",
    "          {\n",
    "            \"type\": \"postback\",\n",
    "            \"label\": \"時刻表\",\n",
    "            \"text\": \"url\",\n",
    "            \"data\": \"1\"\n",
    "          }          \n",
    "                ]\n",
    "            )\n",
    "        ]\n",
    "    )\n",
    "    )            "
   ]
  },
  {
   "cell_type": "code",
   "execution_count": 72,
   "metadata": {},
   "outputs": [],
   "source": [
    "# 填寫完表單 確認\n",
    "# message = TemplateSendMessage(\n",
    "#     alt_text='Confirm template',\n",
    "#     template=ConfirmTemplate(\n",
    "#         text='Are you sure?',\n",
    "#         actions=[\n",
    "#             {\n",
    "#         \"type\": \"message\",\n",
    "#         \"label\": \"是\",\n",
    "#         \"text\": \"是\"\n",
    "#       },\n",
    "#       {\n",
    "#         \"type\": \"message\",\n",
    "#         \"label\": \"否\",\n",
    "#         \"text\": \"否\"\n",
    "#       }\n",
    "#         ]\n",
    "#     )\n",
    "# )"
   ]
  },
  {
   "cell_type": "code",
   "execution_count": 73,
   "metadata": {},
   "outputs": [],
   "source": [
    "# 表單填選完成改變圖文選單  至  院線片非院線片\n",
    "def Confirm_from(event):\n",
    "    text = event.postback.data\n",
    "    #選擇進入後，進行richmenu的轉換，並且傳送第一個問題\n",
    "    if text == \"::確認填選表單\":\n",
    "        # 取出用戶id，設定Line的遠端位置\n",
    "        userMenuEndpoint='https://api.line.me/v2/bot/user/%s/richmenu' % (secretFileContentJson[\"self_user_id\"])\n",
    "        # 設定消息的基本安全憑證\n",
    "        userMenuRequestHeader={'Authorization':'Bearer %s' % secretFileContentJson[\"channel_access_token\"]}\n",
    "        # 發送消息告知已經解除\n",
    "        lineUnregisterUserMenuResponse=requests.delete(userMenuEndpoint,headers=userMenuRequestHeader)\n",
    "        # 取得菜單id\n",
    "        linkRichMenuId3=secretFileContentJson.get(\"rich_menu_id10\")\n",
    "        # 將菜單id與用戶id組合成遠端位置\n",
    "        linkMenuEndpoint3='https://api.line.me/v2/bot/user/%s/richmenu/%s' % (secretFileContentJson[\"self_user_id\"], linkRichMenuId3)\n",
    "        # 設定消息基本安全憑證\n",
    "        linkMenuRequestHeader3={'Content-Type':'image/jpeg','Authorization':'Bearer %s' % secretFileContentJson[\"channel_access_token\"]}\n",
    "        # 發送消息\n",
    "        lineLinkMenuResponse3=requests.post(linkMenuEndpoint3,headers=linkMenuRequestHeader3)\n",
    "        \n",
    "        #home_movie_tag()\n",
    "        #Release_movie_tag()"
   ]
  },
  {
   "cell_type": "code",
   "execution_count": 74,
   "metadata": {},
   "outputs": [],
   "source": [
    "# 按下想看電影 改致 確認或者回首頁\n",
    "def back_first(event):\n",
    "    text = event.postback.data\n",
    "    #選擇進入後，進行richmenu的轉換，並且傳送第一個問題\n",
    "    if text == \"::回首頁\":\n",
    "        # 取出用戶id，設定Line的遠端位置\n",
    "        userMenuEndpoint='https://api.line.me/v2/bot/user/%s/richmenu' % (secretFileContentJson[\"self_user_id\"])\n",
    "        # 設定消息的基本安全憑證\n",
    "        userMenuRequestHeader={'Authorization':'Bearer %s' % secretFileContentJson[\"channel_access_token\"]}\n",
    "        # 發送消息告知已經解除\n",
    "        lineUnregisterUserMenuResponse=requests.delete(userMenuEndpoint,headers=userMenuRequestHeader)\n",
    "        # 取得菜單id\n",
    "        linkRichMenuId=secretFileContentJson.get(\"rich_menu_id\")\n",
    "        # 將菜單id與用戶id組合成遠端位置\n",
    "        linkMenuEndpoint='https://api.line.me/v2/bot/user/%s/richmenu/%s' % (secretFileContentJson[\"self_user_id\"], linkRichMenuId)\n",
    "        # 設定消息基本安全憑證\n",
    "        linkMenuRequestHeader={'Content-Type':'image/jpeg','Authorization':'Bearer %s' % secretFileContentJson[\"channel_access_token\"]}\n",
    "        # 發送消息\n",
    "        lineLinkMenuResponse=requests.post(linkMenuEndpoint,headers=linkMenuRequestHeader)"
   ]
  },
  {
   "cell_type": "code",
   "execution_count": 82,
   "metadata": {},
   "outputs": [],
   "source": [
    "# 按下想看電影 改致 確認或者回首頁\n",
    "def Menu1_from(event):\n",
    "    text = event.postback.data\n",
    "    #選擇進入後，進行richmenu的轉換，並且傳送第一個問題\n",
    "    if text == \"::text:: 我想看電影\":\n",
    "        # 取出用戶id，設定Line的遠端位置\n",
    "        userMenuEndpoint='https://api.line.me/v2/bot/user/%s/richmenu' % (secretFileContentJson[\"self_user_id\"])\n",
    "        # 設定消息的基本安全憑證\n",
    "        userMenuRequestHeader={'Authorization':'Bearer %s' % secretFileContentJson[\"channel_access_token\"]}\n",
    "        # 發送消息告知已經解除\n",
    "        lineUnregisterUserMenuResponse=requests.delete(userMenuEndpoint,headers=userMenuRequestHeader)\n",
    "        # 取得菜單id\n",
    "        linkRichMenuId4=secretFileContentJson.get(\"rich_menu_id11\")\n",
    "        # 將菜單id與用戶id組合成遠端位置\n",
    "        linkMenuEndpoint4='https://api.line.me/v2/bot/user/%s/richmenu/%s' % (secretFileContentJson[\"self_user_id\"], linkRichMenuId4)\n",
    "        # 設定消息基本安全憑證\n",
    "        linkMenuRequestHeader4={'Content-Type':'image/jpeg','Authorization':'Bearer %s' % secretFileContentJson[\"channel_access_token\"]}\n",
    "        # 發送消息\n",
    "        lineLinkMenuResponse4=requests.post(linkMenuEndpoint4,headers=linkMenuRequestHeader4)\n",
    "        \n",
    "        userMenuEndpoint='https://api.line.me/v2/bot/user/%s/richmenu' % (secretFileContentJson[\"self_user_id\"])\n",
    "        print(userMenuEndpoint)\n",
    "\n",
    "        # 設定消息的基本安全憑證\n",
    "        userMenuRequestHeader={'Authorization':'Bearer %s' % secretFileContentJson[\"channel_access_token\"]}\n",
    "\n",
    "        # 發送消息告知\n",
    "        lineUserMenuResponse=requests.get(userMenuEndpoint,headers=userMenuRequestHeader)\n",
    "        print(lineUserMenuResponse)\n",
    "        print(lineUserMenuResponse.text)\n"
   ]
  },
  {
   "cell_type": "code",
   "execution_count": 76,
   "metadata": {},
   "outputs": [],
   "source": [
    "'''\n",
    "\n",
    "建立圖片消息素材\n",
    "\n",
    "'''\n",
    "\n",
    "# 將消息模型，文字收取消息與文字寄發消息 引入\n",
    "from linebot.models import (\n",
    "    ImageSendMessage\n",
    ")\n",
    "\n",
    "image_message = ImageSendMessage(\n",
    "    original_content_url='https://%s/images/001.jpg' % server_url,\n",
    "    preview_image_url='https://%s/images/001.jpg' % server_url\n",
    ")\n",
    "image_message2 = ImageSendMessage(\n",
    "    original_content_url='https://%s/images/003.jpeg' % server_url,\n",
    "    preview_image_url='https://%s/images/003.jpeg' % server_url\n",
    ")"
   ]
  },
  {
   "cell_type": "code",
   "execution_count": 77,
   "metadata": {},
   "outputs": [],
   "source": [
    "'''\n",
    "將素材消息做成一本字典，當用戶發出相應消息時，可從此進行查找動作。\n",
    "'''\n",
    "template_message_dict = {\n",
    "    #\"::text:: 我要精準預測\":image_message,\n",
    "    \"::text:: 我想看電影\":Carousel_template,\n",
    "    #\"{\\'tag1\\':2}\":message,\n",
    "    \"::text:: 我要院線片\":Release_movie\n",
    "    #\"::text:: 我要非院線片\":home_movie\n",
    "}"
   ]
  },
  {
   "cell_type": "code",
   "execution_count": 78,
   "metadata": {},
   "outputs": [],
   "source": [
    "'''\n",
    "\n",
    "撰寫用戶關注時，我們要處理的商業邏輯\n",
    "\n",
    "1. 取得用戶個資，並存回伺服器\n",
    "2. 把先前製作好的自定義菜單，與用戶做綁定\n",
    "3. 回應用戶，歡迎用的文字消息與圖片消息\n",
    "\n",
    "'''\n",
    "\n",
    "\n",
    "# 載入Follow事件\n",
    "from linebot.models.events import (\n",
    "    FollowEvent\n",
    ")\n",
    "\n",
    "# 載入requests套件\n",
    "import requests\n",
    "\n",
    "\n",
    "# 告知handler，如果收到FollowEvent，則做下面的方法處理\n",
    "@handler.add(FollowEvent)\n",
    "def reply_text_and_get_user_profile(event):\n",
    "    \n",
    "    # 取出消息內User的資料\n",
    "    user_profile = line_bot_api.get_profile(event.source.user_id)\n",
    "        \n",
    "     # 將用戶資訊存在檔案內\n",
    "    with open(\"../users.txt\", \"a\") as myfile:\n",
    "        myfile.write(json.dumps(vars(user_profile),sort_keys=True))\n",
    "        myfile.write('\\r\\n')\n",
    "        \n",
    "        \n",
    "    # 將菜單綁定在用戶身上\n",
    "    linkRichMenuId=secretFileContentJson.get(\"rich_menu_id\")\n",
    "    linkMenuEndpoint='https://api.line.me/v2/bot/user/%s/richmenu/%s' % (event.source.user_id, linkRichMenuId)\n",
    "    linkMenuRequestHeader={'Content-Type':'image/jpeg','Authorization':'Bearer %s' % secretFileContentJson[\"channel_access_token\"]}\n",
    "    lineLinkMenuResponse=requests.post(linkMenuEndpoint,headers=linkMenuRequestHeader)\n",
    "    \n",
    "    # 回覆文字消息與圖片消息\n",
    "    line_bot_api.reply_message(\n",
    "        event.reply_token,\n",
    "        reply_message_list\n",
    "    )"
   ]
  },
  {
   "cell_type": "code",
   "execution_count": 79,
   "metadata": {},
   "outputs": [],
   "source": [
    "'''\n",
    "\n",
    "當用戶發出文字消息時，判斷文字內容是否包含[::text:]，\n",
    "    若有，則從template_message_dict 內找出相關訊息\n",
    "    若無，則回傳預設訊息。\n",
    "\n",
    "'''\n",
    "\n",
    "# 用戶發出文字消息時， 按條件內容, 回傳文字消息\n",
    "@handler.add(MessageEvent, message=TextMessage)\n",
    "def handle_message(event):\n",
    "    print(event)\n",
    "    text0 = event.message.text\n",
    "    #predict_text(event)\n",
    "    #if text0 == \"::text:: 我要精準預測\":\n",
    "    if(event.message.text.find('::text::')!= -1):    \n",
    "        predict_text(event)\n",
    "        \n",
    "    if(event.message.text.find('::q')!= -1):    \n",
    "        predict_text(event)    \n",
    "#     text1 = event.message.text\n",
    "#     if text1 == \"::text:: 我要非院線片\":\n",
    "#         tag_home_final = home_movie_tag()\n",
    "#         home_movie = home_movie_1(tag_home_final)\n",
    "#         template_message_dict_1 = {\"::text:: 我要非院線片\":home_movie}\n",
    "#         line_bot_api.reply_message(\n",
    "#         event.reply_token,\n",
    "#         template_message_dict_1.get(event.message.text))\n",
    "        \n",
    "#     text = event.message.text    \n",
    "#     if text == \"是\":\n",
    "#         Confirm_from(event)\n",
    "        \n",
    "#     text = event.message.text    \n",
    "#     if text == \"確認填選表單\":\n",
    "#         Confirm_from(event)    \n",
    "        \n",
    "#     text2 = event.message.text    \n",
    "#     if text2 == \"::text:: 我想看電影\":\n",
    "#         Menu1_from(event)    \n",
    "        \n",
    "        \n",
    "#     if(event.message.text.find('::text::')!= -1):\n",
    "#         line_bot_api.reply_message(\n",
    "#         event.reply_token,\n",
    "#         template_message_dict.get(event.message.text))\n",
    "        \n",
    "    #print(tag_home_final)    \n",
    "        \n",
    "       \n",
    "#   else:\n",
    "#         line_bot_api.reply_message(\n",
    "#         event.reply_token,\n",
    "#         TextSendMessage(text=\"請點擊菜單上圖面，或輸入[::text:]more，取得更多幫助\"))"
   ]
  },
  {
   "cell_type": "code",
   "execution_count": 80,
   "metadata": {},
   "outputs": [],
   "source": [
    "#用戶點擊button後，觸發postback event，對其回傳做相對應處理\n",
    "@handler.add(PostbackEvent)\n",
    "def handle_post_message(event):\n",
    "#     #print(type(event))\n",
    "#     print(event)\n",
    "#     print(event.postback.data.find)\n",
    "#     #postback_from = {}\n",
    "\n",
    "    #不知道為什麼不是全域變數  要怎麼做才可以達到以下兩行的效果  \n",
    "    d1 = event.postback.data\n",
    "    d3 = d1[0:5]\n",
    "    d4 = d1[8:9]\n",
    "    print(d3)\n",
    "    print(d4)\n",
    "    if d3 == \"{\\'tag\":\n",
    "        d2 = eval(d1) #將字串轉成字典\n",
    "        global postback_from\n",
    "        postback_from.update(d2)\n",
    "        print(postback_from) \n",
    "        \n",
    "    #d2 = eval(event.postback.data) #將字串轉成字典\n",
    "    #postback_from.update(d2)    \n",
    "    #print(postback_from)\n",
    "#     print(type(postback_from))\n",
    "#     print(d2)\n",
    "    #Confirm_tag = 0\n",
    "    \n",
    "#     if(event.postback.data.find('{\\'tag1\\':2}')!= -1):\n",
    "#         #b = 1  #記得做完確認後要歸零\n",
    "#         line_bot_api.reply_message(\n",
    "#         event.reply_token,\n",
    "#         template_message_dict.get(event.postback.data))\n",
    "    text1 = event.postback.data\n",
    "    if text1 == \"::text:: 我要非院線片\":\n",
    "        tag_home_final = home_movie_tag()\n",
    "        home_movie = home_movie_1(tag_home_final)\n",
    "        template_message_dict_1 = {\"::text:: 我要非院線片\":home_movie}\n",
    "        line_bot_api.reply_message(\n",
    "        event.reply_token,\n",
    "        template_message_dict_1.get(event.postback.data))\n",
    "        \n",
    "    #text = event.postback.data    \n",
    "    #print(event.postback.data)\n",
    "    if(event.postback.data.find('::確認填選表單')!= -1):\n",
    "        Confirm_from(event)    \n",
    "        \n",
    "    text2 = event.postback.data    \n",
    "    if text2 == \"::text:: 我想看電影\":\n",
    "        Menu1_from(event)    \n",
    "        \n",
    "        \n",
    "    if(event.postback.data.find('::text::')!= -1):\n",
    "        line_bot_api.reply_message(\n",
    "        event.reply_token,\n",
    "        template_message_dict.get(event.postback.data))    \n",
    "        \n",
    "    if(event.postback.data.find('::回首頁')!= -1):\n",
    "        #回首頁先還原tag為0\n",
    "        postback_from = {'tag1':0,'tag3':0,'tag4':0,'tag5':0,'tag6':0,'tag7':0,'tag8':0,'tag9':0}\n",
    "        back_first(event)\n",
    "        \n",
    "        \n",
    "    # 非院線片演員\n",
    "    if(event.postback.data.find('{\\'tagActors_home\\':')!= -1):\n",
    "        #tag_home_final = home_movie_tag()\n",
    "        data_1 = event.postback.data\n",
    "        data_1 = data_1.replace(\"{\\'tagActors_home\\':\",\"\").replace(\"}\",\"\")\n",
    "        data_1 = int(data_1)\n",
    "        line_bot_api.reply_message(\n",
    "        event.reply_token,    \n",
    "        TextSendMessage(tag_home_final[data_1]['m2_Actors']))\n",
    "    # 非院線片劇情介紹\n",
    "    if(event.postback.data.find('{\\'tagPlot_short_home\\':')!= -1):\n",
    "        #tag_home_final = home_movie_tag()\n",
    "        data_1 = event.postback.data\n",
    "        data_1 = data_1.replace(\"{\\'tagPlot_short_home\\':\",\"\").replace(\"}\",\"\")\n",
    "        data_1 = int(data_1)\n",
    "        line_bot_api.reply_message(\n",
    "        event.reply_token,    \n",
    "        TextSendMessage(tag_home_final[data_1]['m2_Plot_short']))\n",
    "    \n",
    "    \n",
    "    \n",
    "    \n",
    "    user_profile = line_bot_api.get_profile(event.source.user_id)\n",
    "    if (event.postback.data.find('Data1')== 0):\n",
    "        with open(\"../user_profile_business.txt\", \"a\") as myfile:\n",
    "            myfile.write(json.dumps(vars(user_profile),sort_keys=True))\n",
    "            myfile.write('\\r\\n')\n",
    "            line_bot_api.reply_message(\n",
    "            event.reply_token,\n",
    "                TextMessage(\n",
    "                    text='請稍待，會有專人與您聯繫'\n",
    "                )\n",
    "            )\n",
    "    elif (event.postback.data.find('Data2') == 0):\n",
    "        with open(\"../user_profile_tutorial.txt\", \"a\") as myfile:\n",
    "            myfile.write(json.dumps(vars(user_profile),sort_keys=True))\n",
    "            myfile.write('\\r\\n')\n",
    "            line_bot_api.reply_message(\n",
    "            event.reply_token,\n",
    "                TextMessage(\n",
    "                    text='請稍待，我們會派專家與您聯繫'\n",
    "                )\n",
    "            )\n",
    "    else:\n",
    "        pass"
   ]
  },
  {
   "cell_type": "code",
   "execution_count": 81,
   "metadata": {},
   "outputs": [
    {
     "name": "stderr",
     "output_type": "stream",
     "text": [
      " * Running on http://0.0.0.0:5000/ (Press CTRL+C to quit)\n"
     ]
    },
    {
     "name": "stdout",
     "output_type": "stream",
     "text": [
      "::tex\n",
      " \n"
     ]
    },
    {
     "name": "stderr",
     "output_type": "stream",
     "text": [
      "172.17.0.3 - - [21/Jul/2019 16:29:28] \"POST / HTTP/1.1\" 200 -\n"
     ]
    },
    {
     "name": "stdout",
     "output_type": "stream",
     "text": [
      "{\"message\": {\"id\": \"10250929975633\", \"text\": \"\\u6211\\u60f3\\u770b\\u96fb\\u5f71\", \"type\": \"text\"}, \"replyToken\": \"1ae96a0e87784a3c94de6feee437da3e\", \"source\": {\"type\": \"user\", \"userId\": \"U183f10d2f255d6daaaf66a345c1c0e75\"}, \"timestamp\": 1563697765399, \"type\": \"message\"}\n",
      "::tex\n",
      " \n",
      "{\"message\": {\"id\": \"10250930014415\", \"text\": \"\\u6211\\u60f3\\u770b\\u96fb\\u5f71\", \"type\": \"text\"}, \"replyToken\": \"6e03a537626a4dc1bccca5653b136d61\", \"source\": {\"type\": \"user\", \"userId\": \"U183f10d2f255d6daaaf66a345c1c0e75\"}, \"timestamp\": 1563697765902, \"type\": \"message\"}\n",
      "我要精準預\n",
      "\n",
      "{\"message\": {\"id\": \"10250930035628\", \"text\": \"::text:: \\u6211\\u8981\\u7cbe\\u6e96\\u9810\\u6e2c\", \"type\": \"text\"}, \"replyToken\": \"007c8fb2bd6247298dba35d6cf9b8d46\", \"source\": {\"type\": \"user\", \"userId\": \"U183f10d2f255d6daaaf66a345c1c0e75\"}, \"timestamp\": 1563697766250, \"type\": \"message\"}\n"
     ]
    },
    {
     "name": "stderr",
     "output_type": "stream",
     "text": [
      "172.17.0.3 - - [21/Jul/2019 16:29:30] \"POST / HTTP/1.1\" 200 -\n",
      "172.17.0.3 - - [21/Jul/2019 16:29:32] \"POST / HTTP/1.1\" 200 -\n",
      "172.17.0.3 - - [21/Jul/2019 16:29:34] \"POST / HTTP/1.1\" 200 -\n"
     ]
    },
    {
     "name": "stdout",
     "output_type": "stream",
     "text": [
      "::tex\n",
      " \n"
     ]
    },
    {
     "name": "stderr",
     "output_type": "stream",
     "text": [
      "172.17.0.3 - - [21/Jul/2019 16:29:40] \"POST / HTTP/1.1\" 200 -\n",
      "172.17.0.3 - - [21/Jul/2019 16:29:40] \"POST / HTTP/1.1\" 200 -\n"
     ]
    },
    {
     "name": "stdout",
     "output_type": "stream",
     "text": [
      "{\"message\": {\"id\": \"10250930819748\", \"text\": \"\\u6211\\u60f3\\u770b\\u96fb\\u5f71\", \"type\": \"text\"}, \"replyToken\": \"f659a3961bce428da27b099257961f40\", \"source\": {\"type\": \"user\", \"userId\": \"U6f2dfaaac958fb9dcc653bfe6cfcc40b\"}, \"timestamp\": 1563697777274, \"type\": \"message\"}\n"
     ]
    },
    {
     "name": "stderr",
     "output_type": "stream",
     "text": [
      "172.17.0.3 - - [21/Jul/2019 16:29:41] \"POST / HTTP/1.1\" 200 -\n"
     ]
    },
    {
     "name": "stdout",
     "output_type": "stream",
     "text": [
      "{\"message\": {\"id\": \"10250930967910\", \"text\": \"1.\\u5c0d\\u96fb\\u5f71:Harry Potter and the Half-Blood Prince,\\u8868\\u793a\\u5f88\\u559c\\u6b61\", \"type\": \"text\"}, \"replyToken\": \"6ea8ce6f51394bcb9c400bf542f1e25d\", \"source\": {\"type\": \"user\", \"userId\": \"U6f2dfaaac958fb9dcc653bfe6cfcc40b\"}, \"timestamp\": 1563697779398, \"type\": \"message\"}\n",
      "{'tag\n",
      "2\n",
      "{'tag1': 2, 'tag3': 0, 'tag4': 0, 'tag5': 0, 'tag6': 0, 'tag7': 0, 'tag8': 0, 'tag9': 0}\n"
     ]
    },
    {
     "name": "stderr",
     "output_type": "stream",
     "text": [
      "172.17.0.3 - - [21/Jul/2019 16:29:42] \"POST / HTTP/1.1\" 200 -\n"
     ]
    },
    {
     "name": "stdout",
     "output_type": "stream",
     "text": [
      "{\"message\": {\"id\": \"10250931017292\", \"text\": \"3.\\u5c0d\\u96fb\\u5f71:The Avengers,\\u8868\\u793a\\u559c\\u6b61\", \"type\": \"text\"}, \"replyToken\": \"46f16c2534934005bbeb02f4f94995a1\", \"source\": {\"type\": \"user\", \"userId\": \"U6f2dfaaac958fb9dcc653bfe6cfcc40b\"}, \"timestamp\": 1563697780170, \"type\": \"message\"}\n",
      "{'tag\n",
      "1\n",
      "{'tag1': 2, 'tag3': 1, 'tag4': 0, 'tag5': 0, 'tag6': 0, 'tag7': 0, 'tag8': 0, 'tag9': 0}\n",
      "::確認填\n",
      "\n"
     ]
    },
    {
     "name": "stderr",
     "output_type": "stream",
     "text": [
      "172.17.0.3 - - [21/Jul/2019 16:29:44] \"POST / HTTP/1.1\" 200 -\n",
      "172.17.0.3 - - [21/Jul/2019 16:29:44] \"POST / HTTP/1.1\" 200 -\n"
     ]
    },
    {
     "name": "stdout",
     "output_type": "stream",
     "text": [
      "{\"message\": {\"id\": \"10250931095075\", \"text\": \"\\u78ba\\u8a8d\\u586b\\u9078\\u8868\\u55ae\", \"type\": \"text\"}, \"replyToken\": \"17f638c26a1e4ad99041a348c276166a\", \"source\": {\"type\": \"user\", \"userId\": \"U6f2dfaaac958fb9dcc653bfe6cfcc40b\"}, \"timestamp\": 1563697781324, \"type\": \"message\"}\n"
     ]
    },
    {
     "name": "stderr",
     "output_type": "stream",
     "text": [
      "[2019-07-21 16:29:45,775] ERROR in app: Exception on / [POST]\n",
      "Traceback (most recent call last):\n",
      "  File \"/opt/conda/lib/python3.7/site-packages/flask/app.py\", line 1982, in wsgi_app\n",
      "    response = self.full_dispatch_request()\n",
      "  File \"/opt/conda/lib/python3.7/site-packages/flask/app.py\", line 1614, in full_dispatch_request\n",
      "    rv = self.handle_user_exception(e)\n",
      "  File \"/opt/conda/lib/python3.7/site-packages/flask/app.py\", line 1517, in handle_user_exception\n",
      "    reraise(exc_type, exc_value, tb)\n",
      "  File \"/opt/conda/lib/python3.7/site-packages/flask/_compat.py\", line 33, in reraise\n",
      "    raise value\n",
      "  File \"/opt/conda/lib/python3.7/site-packages/flask/app.py\", line 1612, in full_dispatch_request\n",
      "    rv = self.dispatch_request()\n",
      "  File \"/opt/conda/lib/python3.7/site-packages/flask/app.py\", line 1598, in dispatch_request\n",
      "    return self.view_functions[rule.endpoint](**req.view_args)\n",
      "  File \"<ipython-input-64-c07530bfb745>\", line 46, in callback\n",
      "    handler.handle(body, signature)\n",
      "  File \"/opt/conda/lib/python3.7/site-packages/linebot/webhook.py\", line 260, in handle\n",
      "    func(event)\n",
      "  File \"<ipython-input-80-47bc1da8685a>\", line 55, in handle_post_message\n",
      "    template_message_dict.get(event.postback.data))\n",
      "  File \"/opt/conda/lib/python3.7/site-packages/linebot/api.py\", line 96, in reply_message\n",
      "    'messages': [message.as_json_dict() for message in messages],\n",
      "  File \"/opt/conda/lib/python3.7/site-packages/linebot/api.py\", line 96, in <listcomp>\n",
      "    'messages': [message.as_json_dict() for message in messages],\n",
      "AttributeError: 'NoneType' object has no attribute 'as_json_dict'\n",
      "172.17.0.3 - - [21/Jul/2019 16:29:45] \"POST / HTTP/1.1\" 500 -\n"
     ]
    },
    {
     "name": "stdout",
     "output_type": "stream",
     "text": [
      "::tex\n",
      " \n"
     ]
    },
    {
     "name": "stderr",
     "output_type": "stream",
     "text": [
      "[2019-07-21 16:29:47,124] ERROR in app: Exception on / [POST]\n",
      "Traceback (most recent call last):\n",
      "  File \"/opt/conda/lib/python3.7/site-packages/flask/app.py\", line 1982, in wsgi_app\n",
      "    response = self.full_dispatch_request()\n",
      "  File \"/opt/conda/lib/python3.7/site-packages/flask/app.py\", line 1614, in full_dispatch_request\n",
      "    rv = self.handle_user_exception(e)\n",
      "  File \"/opt/conda/lib/python3.7/site-packages/flask/app.py\", line 1517, in handle_user_exception\n",
      "    reraise(exc_type, exc_value, tb)\n",
      "  File \"/opt/conda/lib/python3.7/site-packages/flask/_compat.py\", line 33, in reraise\n",
      "    raise value\n",
      "  File \"/opt/conda/lib/python3.7/site-packages/flask/app.py\", line 1612, in full_dispatch_request\n",
      "    rv = self.dispatch_request()\n",
      "  File \"/opt/conda/lib/python3.7/site-packages/flask/app.py\", line 1598, in dispatch_request\n",
      "    return self.view_functions[rule.endpoint](**req.view_args)\n",
      "  File \"<ipython-input-64-c07530bfb745>\", line 46, in callback\n",
      "    handler.handle(body, signature)\n",
      "  File \"/opt/conda/lib/python3.7/site-packages/linebot/webhook.py\", line 260, in handle\n",
      "    func(event)\n",
      "  File \"<ipython-input-80-47bc1da8685a>\", line 71, in handle_post_message\n",
      "    TextSendMessage(tag_home_final[data_1]['m2_Actors']))\n",
      "UnboundLocalError: local variable 'tag_home_final' referenced before assignment\n",
      "172.17.0.3 - - [21/Jul/2019 16:29:47] \"POST / HTTP/1.1\" 500 -\n"
     ]
    },
    {
     "name": "stdout",
     "output_type": "stream",
     "text": [
      "{'tag\n",
      "o\n",
      "{'tag1': 2, 'tag3': 1, 'tag4': 0, 'tag5': 0, 'tag6': 0, 'tag7': 0, 'tag8': 0, 'tag9': 0, 'tagActors_home': 0}\n"
     ]
    },
    {
     "name": "stderr",
     "output_type": "stream",
     "text": [
      "172.17.0.3 - - [21/Jul/2019 16:29:48] \"POST / HTTP/1.1\" 200 -\n"
     ]
    },
    {
     "name": "stdout",
     "output_type": "stream",
     "text": [
      "{\"message\": {\"id\": \"10250931368101\", \"text\": \"1..The Dark Knight Rises\\u96fb\\u5f71\\u7684\\u6f14\\u54e1\", \"type\": \"text\"}, \"replyToken\": \"1c29b6c0449b458f93d46132240df3a1\", \"source\": {\"type\": \"user\", \"userId\": \"U6f2dfaaac958fb9dcc653bfe6cfcc40b\"}, \"timestamp\": 1563697785071, \"type\": \"message\"}\n"
     ]
    },
    {
     "name": "stderr",
     "output_type": "stream",
     "text": [
      "[2019-07-21 16:29:48,847] ERROR in app: Exception on / [POST]\n",
      "Traceback (most recent call last):\n",
      "  File \"/opt/conda/lib/python3.7/site-packages/flask/app.py\", line 1982, in wsgi_app\n",
      "    response = self.full_dispatch_request()\n",
      "  File \"/opt/conda/lib/python3.7/site-packages/flask/app.py\", line 1614, in full_dispatch_request\n",
      "    rv = self.handle_user_exception(e)\n",
      "  File \"/opt/conda/lib/python3.7/site-packages/flask/app.py\", line 1517, in handle_user_exception\n",
      "    reraise(exc_type, exc_value, tb)\n",
      "  File \"/opt/conda/lib/python3.7/site-packages/flask/_compat.py\", line 33, in reraise\n",
      "    raise value\n",
      "  File \"/opt/conda/lib/python3.7/site-packages/flask/app.py\", line 1612, in full_dispatch_request\n",
      "    rv = self.dispatch_request()\n",
      "  File \"/opt/conda/lib/python3.7/site-packages/flask/app.py\", line 1598, in dispatch_request\n",
      "    return self.view_functions[rule.endpoint](**req.view_args)\n",
      "  File \"<ipython-input-64-c07530bfb745>\", line 46, in callback\n",
      "    handler.handle(body, signature)\n",
      "  File \"/opt/conda/lib/python3.7/site-packages/linebot/webhook.py\", line 260, in handle\n",
      "    func(event)\n",
      "  File \"<ipython-input-80-47bc1da8685a>\", line 80, in handle_post_message\n",
      "    TextSendMessage(tag_home_final[data_1]['m2_Plot_short']))\n",
      "UnboundLocalError: local variable 'tag_home_final' referenced before assignment\n",
      "172.17.0.3 - - [21/Jul/2019 16:29:48] \"POST / HTTP/1.1\" 500 -\n"
     ]
    },
    {
     "name": "stdout",
     "output_type": "stream",
     "text": [
      "{\"message\": {\"id\": \"10250931413673\", \"text\": \"1..The Dark Knight Rises\\u96fb\\u5f71\\u5287\\u60c5\\u4ecb\\u7d39\", \"type\": \"text\"}, \"replyToken\": \"6249d91919f0414ab2d2c060d0996e1d\", \"source\": {\"type\": \"user\", \"userId\": \"U6f2dfaaac958fb9dcc653bfe6cfcc40b\"}, \"timestamp\": 1563697785761, \"type\": \"message\"}\n",
      "{'tag\n",
      "t\n",
      "{'tag1': 2, 'tag3': 1, 'tag4': 0, 'tag5': 0, 'tag6': 0, 'tag7': 0, 'tag8': 0, 'tag9': 0, 'tagActors_home': 0, 'tagPlot_short_home': 0}\n",
      "::回首頁\n",
      "\n"
     ]
    },
    {
     "name": "stderr",
     "output_type": "stream",
     "text": [
      "172.17.0.3 - - [21/Jul/2019 16:29:50] \"POST / HTTP/1.1\" 200 -\n",
      "172.17.0.3 - - [21/Jul/2019 16:29:51] \"POST / HTTP/1.1\" 200 -\n"
     ]
    },
    {
     "name": "stdout",
     "output_type": "stream",
     "text": [
      "{\"message\": {\"id\": \"10250931583547\", \"text\": \"\\u56de\\u9996\\u9801\", \"type\": \"text\"}, \"replyToken\": \"487d1eae01604b7489268a5d8acc5861\", \"source\": {\"type\": \"user\", \"userId\": \"U6f2dfaaac958fb9dcc653bfe6cfcc40b\"}, \"timestamp\": 1563697788178, \"type\": \"message\"}\n"
     ]
    },
    {
     "name": "stderr",
     "output_type": "stream",
     "text": [
      "172.17.0.3 - - [21/Jul/2019 16:43:46] \"POST / HTTP/1.1\" 200 -\n"
     ]
    },
    {
     "name": "stdout",
     "output_type": "stream",
     "text": [
      "{\"message\": {\"id\": \"10250990796783\", \"text\": \"\\u6211\\u60f3\\u770b\\u96fb\\u5f71\", \"type\": \"text\"}, \"replyToken\": \"fd76f633ac3d47a19c830888a00b694c\", \"source\": {\"type\": \"user\", \"userId\": \"U183f10d2f255d6daaaf66a345c1c0e75\"}, \"timestamp\": 1563698624294, \"type\": \"message\"}\n",
      "::tex\n",
      " \n"
     ]
    },
    {
     "name": "stderr",
     "output_type": "stream",
     "text": [
      "172.17.0.3 - - [21/Jul/2019 16:43:49] \"POST / HTTP/1.1\" 200 -\n"
     ]
    },
    {
     "name": "stdout",
     "output_type": "stream",
     "text": [
      "::tex\n",
      " \n"
     ]
    },
    {
     "name": "stderr",
     "output_type": "stream",
     "text": [
      "172.17.0.3 - - [21/Jul/2019 16:43:49] \"POST / HTTP/1.1\" 200 -\n"
     ]
    },
    {
     "name": "stdout",
     "output_type": "stream",
     "text": [
      "{\"message\": {\"id\": \"10250990910519\", \"text\": \"\\u6211\\u60f3\\u770b\\u96fb\\u5f71\", \"type\": \"text\"}, \"replyToken\": \"a156346b752148fcbb47394897002771\", \"source\": {\"type\": \"user\", \"userId\": \"U183f10d2f255d6daaaf66a345c1c0e75\"}, \"timestamp\": 1563698625832, \"type\": \"message\"}\n",
      "我要精準預\n",
      "\n",
      "{\"message\": {\"id\": \"10250990979526\", \"text\": \"::text:: \\u6211\\u8981\\u7cbe\\u6e96\\u9810\\u6e2c\", \"type\": \"text\"}, \"replyToken\": \"1184c8f4e4aa43ec8a9c9af9ab7182bb\", \"source\": {\"type\": \"user\", \"userId\": \"U183f10d2f255d6daaaf66a345c1c0e75\"}, \"timestamp\": 1563698626815, \"type\": \"message\"}\n",
      "::tex\n",
      " \n"
     ]
    },
    {
     "name": "stderr",
     "output_type": "stream",
     "text": [
      "172.17.0.3 - - [21/Jul/2019 16:43:51] \"POST / HTTP/1.1\" 200 -\n"
     ]
    },
    {
     "name": "stdout",
     "output_type": "stream",
     "text": [
      "{\"message\": {\"id\": \"10250991001534\", \"text\": \"\\u6211\\u60f3\\u770b\\u96fb\\u5f71\", \"type\": \"text\"}, \"replyToken\": \"f3ffcda0f1044b9e91bf4fc3eecdec5c\", \"source\": {\"type\": \"user\", \"userId\": \"U183f10d2f255d6daaaf66a345c1c0e75\"}, \"timestamp\": 1563698627176, \"type\": \"message\"}\n"
     ]
    },
    {
     "name": "stderr",
     "output_type": "stream",
     "text": [
      "172.17.0.3 - - [21/Jul/2019 16:44:01] \"POST / HTTP/1.1\" 200 -\n"
     ]
    },
    {
     "name": "stdout",
     "output_type": "stream",
     "text": [
      "{'tag\n",
      "2\n",
      "{'tag1': 2, 'tag3': 0, 'tag4': 0, 'tag5': 0, 'tag6': 0, 'tag7': 0, 'tag8': 0, 'tag9': 0}\n"
     ]
    },
    {
     "name": "stderr",
     "output_type": "stream",
     "text": [
      "172.17.0.3 - - [21/Jul/2019 16:44:01] \"POST / HTTP/1.1\" 200 -\n"
     ]
    },
    {
     "name": "stdout",
     "output_type": "stream",
     "text": [
      "{\"message\": {\"id\": \"10250991815378\", \"text\": \"1.\\u5c0d\\u96fb\\u5f71:Harry Potter and the Half-Blood Prince,\\u8868\\u793a\\u5f88\\u559c\\u6b61\", \"type\": \"text\"}, \"replyToken\": \"59754f6ccf31419884d1bccef46074b8\", \"source\": {\"type\": \"user\", \"userId\": \"U183f10d2f255d6daaaf66a345c1c0e75\"}, \"timestamp\": 1563698638595, \"type\": \"message\"}\n"
     ]
    },
    {
     "name": "stderr",
     "output_type": "stream",
     "text": [
      "172.17.0.3 - - [21/Jul/2019 16:44:04] \"POST / HTTP/1.1\" 200 -\n"
     ]
    },
    {
     "name": "stdout",
     "output_type": "stream",
     "text": [
      "{'tag\n",
      "2\n",
      "{'tag1': 2, 'tag3': 2, 'tag4': 0, 'tag5': 0, 'tag6': 0, 'tag7': 0, 'tag8': 0, 'tag9': 0}\n",
      "{\"message\": {\"id\": \"10250992025211\", \"text\": \"3.\\u5c0d\\u96fb\\u5f71:The Avengers,\\u8868\\u793a\\u5f88\\u559c\\u6b61\", \"type\": \"text\"}, \"replyToken\": \"534b741d240945a1b5499e073b4a826d\", \"source\": {\"type\": \"user\", \"userId\": \"U183f10d2f255d6daaaf66a345c1c0e75\"}, \"timestamp\": 1563698641495, \"type\": \"message\"}\n",
      "{'tag\n",
      "1\n",
      "{'tag1': 2, 'tag3': 2, 'tag4': 1, 'tag5': 0, 'tag6': 0, 'tag7': 0, 'tag8': 0, 'tag9': 0}\n"
     ]
    },
    {
     "name": "stderr",
     "output_type": "stream",
     "text": [
      "172.17.0.3 - - [21/Jul/2019 16:44:05] \"POST / HTTP/1.1\" 200 -\n"
     ]
    },
    {
     "name": "stdout",
     "output_type": "stream",
     "text": [
      "{\"message\": {\"id\": \"10250992092483\", \"text\": \"4.\\u5c0d\\u96fb\\u5f71:The Dark Knight,\\u8868\\u793a\\u559c\\u6b61\", \"type\": \"text\"}, \"replyToken\": \"98dedd47da824b33ae45eec61b8b2150\", \"source\": {\"type\": \"user\", \"userId\": \"U183f10d2f255d6daaaf66a345c1c0e75\"}, \"timestamp\": 1563698642542, \"type\": \"message\"}\n"
     ]
    },
    {
     "name": "stderr",
     "output_type": "stream",
     "text": [
      "172.17.0.3 - - [21/Jul/2019 16:44:15] \"POST / HTTP/1.1\" 200 -\n"
     ]
    },
    {
     "name": "stdout",
     "output_type": "stream",
     "text": [
      "我要精準預\n",
      "\n",
      "{\"message\": {\"id\": \"10250992818725\", \"text\": \"::text:: \\u6211\\u8981\\u7cbe\\u6e96\\u9810\\u6e2c\", \"type\": \"text\"}, \"replyToken\": \"4e2ce8a808ed408590ae2822feb291a9\", \"source\": {\"type\": \"user\", \"userId\": \"U183f10d2f255d6daaaf66a345c1c0e75\"}, \"timestamp\": 1563698652611, \"type\": \"message\"}\n"
     ]
    },
    {
     "name": "stderr",
     "output_type": "stream",
     "text": [
      "172.17.0.3 - - [21/Jul/2019 16:44:16] \"POST / HTTP/1.1\" 200 -\n"
     ]
    },
    {
     "name": "stdout",
     "output_type": "stream",
     "text": [
      "::tex\n",
      " \n"
     ]
    },
    {
     "name": "stderr",
     "output_type": "stream",
     "text": [
      "172.17.0.3 - - [21/Jul/2019 16:44:39] \"POST / HTTP/1.1\" 200 -\n",
      "172.17.0.3 - - [21/Jul/2019 16:44:40] \"POST / HTTP/1.1\" 200 -\n"
     ]
    },
    {
     "name": "stdout",
     "output_type": "stream",
     "text": [
      "{\"message\": {\"id\": \"10250994514805\", \"text\": \"\\u6211\\u60f3\\u770b\\u96fb\\u5f71\", \"type\": \"text\"}, \"replyToken\": \"1665587ae76e4e7498bf3042f0db3279\", \"source\": {\"type\": \"user\", \"userId\": \"U183f10d2f255d6daaaf66a345c1c0e75\"}, \"timestamp\": 1563698676403, \"type\": \"message\"}\n"
     ]
    },
    {
     "name": "stderr",
     "output_type": "stream",
     "text": [
      "172.17.0.3 - - [21/Jul/2019 16:44:41] \"POST / HTTP/1.1\" 200 -\n"
     ]
    },
    {
     "name": "stdout",
     "output_type": "stream",
     "text": [
      "{'tag\n",
      "1\n",
      "{'tag1': 1, 'tag3': 2, 'tag4': 1, 'tag5': 0, 'tag6': 0, 'tag7': 0, 'tag8': 0, 'tag9': 0}\n"
     ]
    },
    {
     "name": "stderr",
     "output_type": "stream",
     "text": [
      "172.17.0.3 - - [21/Jul/2019 16:44:41] \"POST / HTTP/1.1\" 200 -\n"
     ]
    },
    {
     "name": "stdout",
     "output_type": "stream",
     "text": [
      "{\"message\": {\"id\": \"10250994683042\", \"text\": \"1.\\u5c0d\\u96fb\\u5f71:Harry Potter and the Half-Blood Prince,\\u8868\\u793a\\u559c\\u6b61\", \"type\": \"text\"}, \"replyToken\": \"887998dd19194759840fe47e805aa04e\", \"source\": {\"type\": \"user\", \"userId\": \"U183f10d2f255d6daaaf66a345c1c0e75\"}, \"timestamp\": 1563698678895, \"type\": \"message\"}\n"
     ]
    },
    {
     "name": "stderr",
     "output_type": "stream",
     "text": [
      "172.17.0.3 - - [21/Jul/2019 16:45:04] \"POST / HTTP/1.1\" 200 -\n"
     ]
    },
    {
     "name": "stdout",
     "output_type": "stream",
     "text": [
      "{'tag\n",
      "0\n",
      "{'tag1': 1, 'tag3': 0, 'tag4': 1, 'tag5': 0, 'tag6': 0, 'tag7': 0, 'tag8': 0, 'tag9': 0}\n"
     ]
    },
    {
     "name": "stderr",
     "output_type": "stream",
     "text": [
      "172.17.0.3 - - [21/Jul/2019 16:45:05] \"POST / HTTP/1.1\" 200 -\n"
     ]
    },
    {
     "name": "stdout",
     "output_type": "stream",
     "text": [
      "{\"message\": {\"id\": \"10250996364568\", \"text\": \"3.\\u5c0d\\u96fb\\u5f71:The Avengers,\\u8868\\u793a\\u6c92\\u6709\\u611f\\u89ba\", \"type\": \"text\"}, \"replyToken\": \"bda9ea28b4b84a4a924a058f501926d3\", \"source\": {\"type\": \"user\", \"userId\": \"U183f10d2f255d6daaaf66a345c1c0e75\"}, \"timestamp\": 1563698702362, \"type\": \"message\"}\n"
     ]
    },
    {
     "name": "stderr",
     "output_type": "stream",
     "text": [
      "172.17.0.3 - - [21/Jul/2019 16:45:06] \"POST / HTTP/1.1\" 200 -\n"
     ]
    },
    {
     "name": "stdout",
     "output_type": "stream",
     "text": [
      "{\"message\": {\"id\": \"10250996513935\", \"text\": \"4.\\u5c0d\\u96fb\\u5f71:The Dark Knight,\\u8868\\u793a\\u5f88\\u559c\\u6b61\", \"type\": \"text\"}, \"replyToken\": \"43df8794adc54bab853d9e2a2c4b61a0\", \"source\": {\"type\": \"user\", \"userId\": \"U183f10d2f255d6daaaf66a345c1c0e75\"}, \"timestamp\": 1563698704481, \"type\": \"message\"}\n"
     ]
    },
    {
     "name": "stderr",
     "output_type": "stream",
     "text": [
      "172.17.0.3 - - [21/Jul/2019 16:45:07] \"POST / HTTP/1.1\" 200 -\n"
     ]
    },
    {
     "name": "stdout",
     "output_type": "stream",
     "text": [
      "{'tag\n",
      "2\n",
      "{'tag1': 1, 'tag3': 0, 'tag4': 2, 'tag5': 0, 'tag6': 0, 'tag7': 0, 'tag8': 0, 'tag9': 0}\n"
     ]
    },
    {
     "name": "stderr",
     "output_type": "stream",
     "text": [
      "172.17.0.3 - - [21/Jul/2019 16:45:08] \"POST / HTTP/1.1\" 200 -\n"
     ]
    },
    {
     "name": "stdout",
     "output_type": "stream",
     "text": [
      "{'tag\n",
      "0\n",
      "{'tag1': 1, 'tag3': 0, 'tag4': 2, 'tag5': 0, 'tag6': 0, 'tag7': 0, 'tag8': 0, 'tag9': 0}\n"
     ]
    },
    {
     "name": "stderr",
     "output_type": "stream",
     "text": [
      "172.17.0.3 - - [21/Jul/2019 16:45:10] \"POST / HTTP/1.1\" 200 -\n"
     ]
    },
    {
     "name": "stdout",
     "output_type": "stream",
     "text": [
      "{\"message\": {\"id\": \"10250996680492\", \"text\": \"5.\\u5c0d\\u96fb\\u5f71:Up,\\u8868\\u793a\\u6c92\\u6709\\u611f\\u89ba\", \"type\": \"text\"}, \"replyToken\": \"9c1ebda9fb0243a48c0bf970408fbbb4\", \"source\": {\"type\": \"user\", \"userId\": \"U183f10d2f255d6daaaf66a345c1c0e75\"}, \"timestamp\": 1563698706776, \"type\": \"message\"}\n"
     ]
    },
    {
     "name": "stderr",
     "output_type": "stream",
     "text": [
      "172.17.0.3 - - [21/Jul/2019 16:45:11] \"POST / HTTP/1.1\" 200 -\n"
     ]
    },
    {
     "name": "stdout",
     "output_type": "stream",
     "text": [
      "{'tag\n",
      "2\n",
      "{'tag1': 1, 'tag3': 0, 'tag4': 2, 'tag5': 0, 'tag6': 2, 'tag7': 0, 'tag8': 0, 'tag9': 0}\n",
      "{\"message\": {\"id\": \"10250996804835\", \"text\": \"6.\\u5c0d\\u96fb\\u5f71:Harry Potter and the Order of the Phoenix,\\u8868\\u793a\\u5f88\\u559c\\u6b61\", \"type\": \"text\"}, \"replyToken\": \"f109e3b137d9407889a942263b47efce\", \"source\": {\"type\": \"user\", \"userId\": \"U183f10d2f255d6daaaf66a345c1c0e75\"}, \"timestamp\": 1563698708581, \"type\": \"message\"}\n"
     ]
    },
    {
     "name": "stderr",
     "output_type": "stream",
     "text": [
      "172.17.0.3 - - [21/Jul/2019 16:45:12] \"POST / HTTP/1.1\" 200 -\n"
     ]
    },
    {
     "name": "stdout",
     "output_type": "stream",
     "text": [
      "{'tag\n",
      "2\n",
      "{'tag1': 1, 'tag3': 0, 'tag4': 2, 'tag5': 0, 'tag6': 2, 'tag7': 2, 'tag8': 0, 'tag9': 0}\n"
     ]
    },
    {
     "name": "stderr",
     "output_type": "stream",
     "text": [
      "172.17.0.3 - - [21/Jul/2019 16:45:13] \"POST / HTTP/1.1\" 200 -\n"
     ]
    },
    {
     "name": "stdout",
     "output_type": "stream",
     "text": [
      "{\"message\": {\"id\": \"10250996943207\", \"text\": \"7.\\u5c0d\\u96fb\\u5f71:Harry Potter and the Deathly Hallows: Part 1,\\u8868\\u793a\\u5f88\\u559c\\u6b61\", \"type\": \"text\"}, \"replyToken\": \"a13d1b5c04c7468da191ba15fc2962bb\", \"source\": {\"type\": \"user\", \"userId\": \"U183f10d2f255d6daaaf66a345c1c0e75\"}, \"timestamp\": 1563698710396, \"type\": \"message\"}\n"
     ]
    },
    {
     "name": "stderr",
     "output_type": "stream",
     "text": [
      "172.17.0.3 - - [21/Jul/2019 16:45:15] \"POST / HTTP/1.1\" 200 -\n"
     ]
    },
    {
     "name": "stdout",
     "output_type": "stream",
     "text": [
      "{'tag\n",
      "2\n",
      "{'tag1': 1, 'tag3': 0, 'tag4': 2, 'tag5': 0, 'tag6': 2, 'tag7': 2, 'tag8': 2, 'tag9': 0}\n"
     ]
    },
    {
     "name": "stderr",
     "output_type": "stream",
     "text": [
      "172.17.0.3 - - [21/Jul/2019 16:45:16] \"POST / HTTP/1.1\" 200 -\n"
     ]
    },
    {
     "name": "stdout",
     "output_type": "stream",
     "text": [
      "{\"message\": {\"id\": \"10250997159396\", \"text\": \"8.\\u5c0d\\u96fb\\u5f71:Batman Begins,\\u8868\\u793a\\u5f88\\u559c\\u6b61\", \"type\": \"text\"}, \"replyToken\": \"7f4917bcecaf4123a2e04e462ecdb91b\", \"source\": {\"type\": \"user\", \"userId\": \"U183f10d2f255d6daaaf66a345c1c0e75\"}, \"timestamp\": 1563698713517, \"type\": \"message\"}\n"
     ]
    },
    {
     "name": "stderr",
     "output_type": "stream",
     "text": [
      "172.17.0.3 - - [21/Jul/2019 16:45:17] \"POST / HTTP/1.1\" 200 -\n"
     ]
    },
    {
     "name": "stdout",
     "output_type": "stream",
     "text": [
      "{\"message\": {\"id\": \"10250997308227\", \"text\": \"9.\\u5c0d\\u96fb\\u5f71:Iron Man,\\u8868\\u793a\\u5f88\\u559c\\u6b61\", \"type\": \"text\"}, \"replyToken\": \"80228c2daa1b4eb58df9ec3ead9d58d3\", \"source\": {\"type\": \"user\", \"userId\": \"U183f10d2f255d6daaaf66a345c1c0e75\"}, \"timestamp\": 1563698715614, \"type\": \"message\"}\n"
     ]
    },
    {
     "name": "stderr",
     "output_type": "stream",
     "text": [
      "172.17.0.3 - - [21/Jul/2019 16:45:18] \"POST / HTTP/1.1\" 200 -\n"
     ]
    },
    {
     "name": "stdout",
     "output_type": "stream",
     "text": [
      "{'tag\n",
      "2\n",
      "{'tag1': 1, 'tag3': 0, 'tag4': 2, 'tag5': 0, 'tag6': 2, 'tag7': 2, 'tag8': 2, 'tag9': 2}\n",
      "::tex\n",
      " \n"
     ]
    },
    {
     "name": "stderr",
     "output_type": "stream",
     "text": [
      "172.17.0.3 - - [21/Jul/2019 16:45:28] \"POST / HTTP/1.1\" 200 -\n",
      "172.17.0.3 - - [21/Jul/2019 16:45:28] \"POST / HTTP/1.1\" 200 -\n"
     ]
    },
    {
     "name": "stdout",
     "output_type": "stream",
     "text": [
      "{\"message\": {\"id\": \"10250998000383\", \"text\": \"\\u6211\\u60f3\\u770b\\u96fb\\u5f71\", \"type\": \"text\"}, \"replyToken\": \"0fe54c26ee1f4eab9e972044e939d933\", \"source\": {\"type\": \"user\", \"userId\": \"U183f10d2f255d6daaaf66a345c1c0e75\"}, \"timestamp\": 1563698725238, \"type\": \"message\"}\n",
      "::tex\n",
      " \n"
     ]
    },
    {
     "name": "stderr",
     "output_type": "stream",
     "text": [
      "172.17.0.3 - - [21/Jul/2019 16:45:30] \"POST / HTTP/1.1\" 200 -\n"
     ]
    },
    {
     "name": "stdout",
     "output_type": "stream",
     "text": [
      "{\"message\": {\"id\": \"10250998129575\", \"text\": \"\\u6211\\u60f3\\u770b\\u96fb\\u5f71\", \"type\": \"text\"}, \"replyToken\": \"9506fd7c652543a28f58890cd6435d3b\", \"source\": {\"type\": \"user\", \"userId\": \"U183f10d2f255d6daaaf66a345c1c0e75\"}, \"timestamp\": 1563698727049, \"type\": \"message\"}\n",
      "::tex\n",
      " \n"
     ]
    },
    {
     "name": "stderr",
     "output_type": "stream",
     "text": [
      "172.17.0.3 - - [21/Jul/2019 16:45:36] \"POST / HTTP/1.1\" 200 -\n",
      "172.17.0.3 - - [21/Jul/2019 16:45:37] \"POST / HTTP/1.1\" 200 -\n"
     ]
    },
    {
     "name": "stdout",
     "output_type": "stream",
     "text": [
      "{\"message\": {\"id\": \"10250998599213\", \"text\": \"\\u6211\\u60f3\\u770b\\u96fb\\u5f71\", \"type\": \"text\"}, \"replyToken\": \"584149e8c95841fda576a225e55c2208\", \"source\": {\"type\": \"user\", \"userId\": \"U183f10d2f255d6daaaf66a345c1c0e75\"}, \"timestamp\": 1563698733687, \"type\": \"message\"}\n"
     ]
    },
    {
     "name": "stderr",
     "output_type": "stream",
     "text": [
      "172.17.0.3 - - [21/Jul/2019 16:45:38] \"POST / HTTP/1.1\" 200 -\n"
     ]
    },
    {
     "name": "stdout",
     "output_type": "stream",
     "text": [
      "我要精準預\n",
      "\n",
      "{\"message\": {\"id\": \"10250998805016\", \"text\": \"::text:: \\u6211\\u8981\\u7cbe\\u6e96\\u9810\\u6e2c\", \"type\": \"text\"}, \"replyToken\": \"8bdc612682fe4c30b77ba677bf1c4d48\", \"source\": {\"type\": \"user\", \"userId\": \"U183f10d2f255d6daaaf66a345c1c0e75\"}, \"timestamp\": 1563698736514, \"type\": \"message\"}\n"
     ]
    },
    {
     "name": "stderr",
     "output_type": "stream",
     "text": [
      "172.17.0.3 - - [21/Jul/2019 16:45:40] \"POST / HTTP/1.1\" 200 -\n",
      "172.17.0.3 - - [21/Jul/2019 16:46:05] \"POST / HTTP/1.1\" 200 -\n"
     ]
    },
    {
     "name": "stdout",
     "output_type": "stream",
     "text": [
      "{\"message\": {\"id\": \"10251000696230\", \"text\": \"\\u6211\\u60f3\\u770b\\u96fb\\u5f71\", \"type\": \"text\"}, \"replyToken\": \"4337c1fcbed64c5c86106e4ce76fdec1\", \"source\": {\"type\": \"user\", \"userId\": \"U183f10d2f255d6daaaf66a345c1c0e75\"}, \"timestamp\": 1563698763073, \"type\": \"message\"}\n",
      "::tex\n",
      " \n"
     ]
    },
    {
     "name": "stderr",
     "output_type": "stream",
     "text": [
      "172.17.0.3 - - [21/Jul/2019 16:46:07] \"POST / HTTP/1.1\" 200 -\n"
     ]
    },
    {
     "name": "stdout",
     "output_type": "stream",
     "text": [
      "::tex\n",
      " \n"
     ]
    },
    {
     "name": "stderr",
     "output_type": "stream",
     "text": [
      "172.17.0.3 - - [21/Jul/2019 16:46:08] \"POST / HTTP/1.1\" 200 -\n"
     ]
    },
    {
     "name": "stdout",
     "output_type": "stream",
     "text": [
      "{\"message\": {\"id\": \"10251000818295\", \"text\": \"\\u6211\\u60f3\\u770b\\u96fb\\u5f71\", \"type\": \"text\"}, \"replyToken\": \"557de990d64a49a1b26dc91ecf3fa597\", \"source\": {\"type\": \"user\", \"userId\": \"U183f10d2f255d6daaaf66a345c1c0e75\"}, \"timestamp\": 1563698764773, \"type\": \"message\"}\n"
     ]
    },
    {
     "name": "stderr",
     "output_type": "stream",
     "text": [
      "172.17.0.3 - - [21/Jul/2019 16:46:20] \"POST / HTTP/1.1\" 200 -\n"
     ]
    },
    {
     "name": "stdout",
     "output_type": "stream",
     "text": [
      "::tex\n",
      " \n"
     ]
    },
    {
     "name": "stderr",
     "output_type": "stream",
     "text": [
      "172.17.0.3 - - [21/Jul/2019 16:46:28] \"POST / HTTP/1.1\" 200 -\n",
      "172.17.0.3 - - [21/Jul/2019 16:46:29] \"POST / HTTP/1.1\" 200 -\n"
     ]
    },
    {
     "name": "stdout",
     "output_type": "stream",
     "text": [
      "{\"message\": {\"id\": \"10251002303351\", \"text\": \"\\u6211\\u60f3\\u770b\\u96fb\\u5f71\", \"type\": \"text\"}, \"replyToken\": \"f2c7c2f3844741a1a191cdde2a01fa27\", \"source\": {\"type\": \"user\", \"userId\": \"U7ceb8be8bc236f8765d2a906342fce98\"}, \"timestamp\": 1563698785642, \"type\": \"message\"}\n"
     ]
    },
    {
     "name": "stderr",
     "output_type": "stream",
     "text": [
      "172.17.0.3 - - [21/Jul/2019 16:47:11] \"POST / HTTP/1.1\" 200 -\n"
     ]
    },
    {
     "name": "stdout",
     "output_type": "stream",
     "text": [
      "{'tag\n",
      "2\n",
      "{'tag1': 2, 'tag3': 0, 'tag4': 2, 'tag5': 0, 'tag6': 2, 'tag7': 2, 'tag8': 2, 'tag9': 2}\n"
     ]
    },
    {
     "name": "stderr",
     "output_type": "stream",
     "text": [
      "172.17.0.3 - - [21/Jul/2019 16:47:12] \"POST / HTTP/1.1\" 200 -\n"
     ]
    },
    {
     "name": "stdout",
     "output_type": "stream",
     "text": [
      "{\"message\": {\"id\": \"10251005401052\", \"text\": \"1.\\u5c0d\\u96fb\\u5f71:Harry Potter and the Half-Blood Prince,\\u8868\\u793a\\u5f88\\u559c\\u6b61\", \"type\": \"text\"}, \"replyToken\": \"9a68253f69f149f0bc2f49df5e04a1a2\", \"source\": {\"type\": \"user\", \"userId\": \"U183f10d2f255d6daaaf66a345c1c0e75\"}, \"timestamp\": 1563698829193, \"type\": \"message\"}\n"
     ]
    },
    {
     "name": "stderr",
     "output_type": "stream",
     "text": [
      "172.17.0.3 - - [21/Jul/2019 16:47:16] \"POST / HTTP/1.1\" 200 -\n"
     ]
    },
    {
     "name": "stdout",
     "output_type": "stream",
     "text": [
      "{'tag\n",
      "0\n",
      "{'tag1': 0, 'tag3': 0, 'tag4': 2, 'tag5': 0, 'tag6': 2, 'tag7': 2, 'tag8': 2, 'tag9': 2}\n"
     ]
    },
    {
     "name": "stderr",
     "output_type": "stream",
     "text": [
      "172.17.0.3 - - [21/Jul/2019 16:47:17] \"POST / HTTP/1.1\" 200 -\n"
     ]
    },
    {
     "name": "stdout",
     "output_type": "stream",
     "text": [
      "{\"message\": {\"id\": \"10251005755097\", \"text\": \"1.\\u5c0d\\u96fb\\u5f71:Harry Potter and the Half-Blood Prince,\\u8868\\u793a\\u6c92\\u6709\\u611f\\u89ba\", \"type\": \"text\"}, \"replyToken\": \"4bc75465feb04a4fa23e40511822a88a\", \"source\": {\"type\": \"user\", \"userId\": \"U183f10d2f255d6daaaf66a345c1c0e75\"}, \"timestamp\": 1563698834148, \"type\": \"message\"}\n"
     ]
    },
    {
     "name": "stderr",
     "output_type": "stream",
     "text": [
      "172.17.0.3 - - [21/Jul/2019 16:47:19] \"POST / HTTP/1.1\" 200 -\n"
     ]
    },
    {
     "name": "stdout",
     "output_type": "stream",
     "text": [
      "{'tag\n",
      "2\n",
      "{'tag1': 0, 'tag3': 2, 'tag4': 2, 'tag5': 0, 'tag6': 2, 'tag7': 2, 'tag8': 2, 'tag9': 2}\n"
     ]
    },
    {
     "name": "stderr",
     "output_type": "stream",
     "text": [
      "172.17.0.3 - - [21/Jul/2019 16:47:20] \"POST / HTTP/1.1\" 200 -\n"
     ]
    },
    {
     "name": "stdout",
     "output_type": "stream",
     "text": [
      "{\"message\": {\"id\": \"10251005942433\", \"text\": \"3.\\u5c0d\\u96fb\\u5f71:The Avengers,\\u8868\\u793a\\u5f88\\u559c\\u6b61\", \"type\": \"text\"}, \"replyToken\": \"878378c8995b475f92d988de092cf8ee\", \"source\": {\"type\": \"user\", \"userId\": \"U183f10d2f255d6daaaf66a345c1c0e75\"}, \"timestamp\": 1563698836828, \"type\": \"message\"}\n",
      "{\"message\": {\"id\": \"10251006000913\", \"text\": \"3.\\u5c0d\\u96fb\\u5f71:The Avengers,\\u8868\\u793a\\u5f88\\u559c\\u6b61\", \"type\": \"text\"}, \"replyToken\": \"a379cec367d84374a7e35fde3703de7d\", \"source\": {\"type\": \"user\", \"userId\": \"U183f10d2f255d6daaaf66a345c1c0e75\"}, \"timestamp\": 1563698837679, \"type\": \"message\"}\n",
      "{'tag\n",
      "2\n",
      "{'tag1': 0, 'tag3': 2, 'tag4': 2, 'tag5': 0, 'tag6': 2, 'tag7': 2, 'tag8': 2, 'tag9': 2}\n"
     ]
    },
    {
     "name": "stderr",
     "output_type": "stream",
     "text": [
      "172.17.0.3 - - [21/Jul/2019 16:47:20] \"POST / HTTP/1.1\" 200 -\n"
     ]
    },
    {
     "name": "stdout",
     "output_type": "stream",
     "text": [
      "{'tag\n",
      "2\n",
      "{'tag1': 0, 'tag3': 2, 'tag4': 2, 'tag5': 0, 'tag6': 2, 'tag7': 2, 'tag8': 2, 'tag9': 2}\n",
      "{\"message\": {\"id\": \"10251006026796\", \"text\": \"3.\\u5c0d\\u96fb\\u5f71:The Avengers,\\u8868\\u793a\\u5f88\\u559c\\u6b61\", \"type\": \"text\"}, \"replyToken\": \"9d88365d858241a189177aaa897519a4\", \"source\": {\"type\": \"user\", \"userId\": \"U183f10d2f255d6daaaf66a345c1c0e75\"}, \"timestamp\": 1563698837980, \"type\": \"message\"}\n",
      "::tex\n",
      " \n"
     ]
    },
    {
     "name": "stderr",
     "output_type": "stream",
     "text": [
      "172.17.0.3 - - [21/Jul/2019 16:47:25] \"POST / HTTP/1.1\" 200 -\n",
      "172.17.0.3 - - [21/Jul/2019 16:47:26] \"POST / HTTP/1.1\" 200 -\n"
     ]
    },
    {
     "name": "stdout",
     "output_type": "stream",
     "text": [
      "{\"message\": {\"id\": \"10251006356490\", \"text\": \"\\u6211\\u60f3\\u770b\\u96fb\\u5f71\", \"type\": \"text\"}, \"replyToken\": \"5afaa3bd54bf48b2867f40fe84ca41a3\", \"source\": {\"type\": \"user\", \"userId\": \"U183f10d2f255d6daaaf66a345c1c0e75\"}, \"timestamp\": 1563698842616, \"type\": \"message\"}\n",
      "我要精準預\n",
      "\n",
      "{\"message\": {\"id\": \"10251006449553\", \"text\": \"::text:: \\u6211\\u8981\\u7cbe\\u6e96\\u9810\\u6e2c\", \"type\": \"text\"}, \"replyToken\": \"1efa4d8dfa984898b68a17b3e53406f6\", \"source\": {\"type\": \"user\", \"userId\": \"U183f10d2f255d6daaaf66a345c1c0e75\"}, \"timestamp\": 1563698843944, \"type\": \"message\"}\n"
     ]
    },
    {
     "name": "stderr",
     "output_type": "stream",
     "text": [
      "172.17.0.3 - - [21/Jul/2019 16:47:27] \"POST / HTTP/1.1\" 200 -\n"
     ]
    },
    {
     "name": "stdout",
     "output_type": "stream",
     "text": [
      "::tex\n",
      " \n"
     ]
    },
    {
     "name": "stderr",
     "output_type": "stream",
     "text": [
      "172.17.0.3 - - [21/Jul/2019 16:48:51] \"POST / HTTP/1.1\" 200 -\n"
     ]
    },
    {
     "name": "stdout",
     "output_type": "stream",
     "text": [
      "{\"message\": {\"id\": \"10251012417168\", \"text\": \"\\u6211\\u60f3\\u770b\\u96fb\\u5f71\", \"type\": \"text\"}, \"replyToken\": \"64b26a5fd86843818fa035bf6835b319\", \"source\": {\"type\": \"user\", \"userId\": \"U183f10d2f255d6daaaf66a345c1c0e75\"}, \"timestamp\": 1563698927434, \"type\": \"message\"}\n",
      "我要精準預\n",
      "\n",
      "{\"message\": {\"id\": \"10251012489065\", \"text\": \"::text:: \\u6211\\u8981\\u7cbe\\u6e96\\u9810\\u6e2c\", \"type\": \"text\"}, \"replyToken\": \"dc9b45525a1643d3b5f72b5299abc63d\", \"source\": {\"type\": \"user\", \"userId\": \"U183f10d2f255d6daaaf66a345c1c0e75\"}, \"timestamp\": 1563698928356, \"type\": \"message\"}\n"
     ]
    },
    {
     "name": "stderr",
     "output_type": "stream",
     "text": [
      "172.17.0.3 - - [21/Jul/2019 16:48:52] \"POST / HTTP/1.1\" 200 -\n",
      "172.17.0.3 - - [21/Jul/2019 16:48:54] \"POST / HTTP/1.1\" 200 -\n"
     ]
    },
    {
     "name": "stdout",
     "output_type": "stream",
     "text": [
      "我要精準預\n",
      "\n",
      "{\"message\": {\"id\": \"10251012770225\", \"text\": \"::text:: \\u6211\\u8981\\u7cbe\\u6e96\\u9810\\u6e2c\", \"type\": \"text\"}, \"replyToken\": \"cd13ab4fd3ca4c829d552aa606ae0ab1\", \"source\": {\"type\": \"user\", \"userId\": \"U183f10d2f255d6daaaf66a345c1c0e75\"}, \"timestamp\": 1563698932304, \"type\": \"message\"}\n"
     ]
    },
    {
     "name": "stderr",
     "output_type": "stream",
     "text": [
      "172.17.0.3 - - [21/Jul/2019 16:48:55] \"POST / HTTP/1.1\" 200 -\n"
     ]
    },
    {
     "name": "stdout",
     "output_type": "stream",
     "text": [
      "::tex\n",
      " \n"
     ]
    },
    {
     "name": "stderr",
     "output_type": "stream",
     "text": [
      "172.17.0.3 - - [21/Jul/2019 16:48:57] \"POST / HTTP/1.1\" 200 -\n"
     ]
    },
    {
     "name": "stdout",
     "output_type": "stream",
     "text": [
      "{\"message\": {\"id\": \"10251012892649\", \"text\": \"\\u6211\\u60f3\\u770b\\u96fb\\u5f71\", \"type\": \"text\"}, \"replyToken\": \"03125b5826984505863d90f94f8ffa26\", \"source\": {\"type\": \"user\", \"userId\": \"U183f10d2f255d6daaaf66a345c1c0e75\"}, \"timestamp\": 1563698934005, \"type\": \"message\"}\n"
     ]
    },
    {
     "name": "stderr",
     "output_type": "stream",
     "text": [
      "172.17.0.3 - - [21/Jul/2019 16:49:23] \"POST / HTTP/1.1\" 200 -\n"
     ]
    },
    {
     "name": "stdout",
     "output_type": "stream",
     "text": [
      "我要精準預\n",
      "\n",
      "{\"message\": {\"id\": \"10251014860577\", \"text\": \"::text:: \\u6211\\u8981\\u7cbe\\u6e96\\u9810\\u6e2c\", \"type\": \"text\"}, \"replyToken\": \"a0ea73d69ac744c583309a0fa1190b5c\", \"source\": {\"type\": \"user\", \"userId\": \"U7ceb8be8bc236f8765d2a906342fce98\"}, \"timestamp\": 1563698961390, \"type\": \"message\"}\n"
     ]
    },
    {
     "name": "stderr",
     "output_type": "stream",
     "text": [
      "172.17.0.3 - - [21/Jul/2019 16:49:24] \"POST / HTTP/1.1\" 200 -\n",
      "172.17.0.3 - - [21/Jul/2019 16:54:13] \"POST / HTTP/1.1\" 200 -\n",
      "172.17.0.3 - - [21/Jul/2019 16:54:14] \"POST / HTTP/1.1\" 200 -\n"
     ]
    },
    {
     "name": "stdout",
     "output_type": "stream",
     "text": [
      "::tex\n",
      " \n"
     ]
    },
    {
     "name": "stderr",
     "output_type": "stream",
     "text": [
      "172.17.0.3 - - [21/Jul/2019 16:54:18] \"POST / HTTP/1.1\" 200 -\n",
      "172.17.0.3 - - [21/Jul/2019 16:54:18] \"POST / HTTP/1.1\" 200 -\n"
     ]
    },
    {
     "name": "stdout",
     "output_type": "stream",
     "text": [
      "{\"message\": {\"id\": \"10251035979022\", \"text\": \"\\u6211\\u60f3\\u770b\\u96fb\\u5f71\", \"type\": \"text\"}, \"replyToken\": \"38c271ab8e344d69bea99fab14fc9e08\", \"source\": {\"type\": \"user\", \"userId\": \"U6f2dfaaac958fb9dcc653bfe6cfcc40b\"}, \"timestamp\": 1563699254661, \"type\": \"message\"}\n"
     ]
    },
    {
     "name": "stderr",
     "output_type": "stream",
     "text": [
      "172.17.0.3 - - [21/Jul/2019 16:54:21] \"POST / HTTP/1.1\" 200 -\n"
     ]
    },
    {
     "name": "stdout",
     "output_type": "stream",
     "text": [
      "{'tag\n",
      "2\n",
      "{'tag1': 2, 'tag3': 2, 'tag4': 2, 'tag5': 0, 'tag6': 2, 'tag7': 2, 'tag8': 2, 'tag9': 2}\n"
     ]
    },
    {
     "name": "stderr",
     "output_type": "stream",
     "text": [
      "172.17.0.3 - - [21/Jul/2019 16:54:22] \"POST / HTTP/1.1\" 200 -\n"
     ]
    },
    {
     "name": "stdout",
     "output_type": "stream",
     "text": [
      "{\"message\": {\"id\": \"10251036298245\", \"text\": \"1.\\u5c0d\\u96fb\\u5f71:Harry Potter and the Half-Blood Prince,\\u8868\\u793a\\u5f88\\u559c\\u6b61\", \"type\": \"text\"}, \"replyToken\": \"02119d0ab948492eb49e0f34a979a0b5\", \"source\": {\"type\": \"user\", \"userId\": \"U6f2dfaaac958fb9dcc653bfe6cfcc40b\"}, \"timestamp\": 1563699259003, \"type\": \"message\"}\n"
     ]
    },
    {
     "name": "stderr",
     "output_type": "stream",
     "text": [
      "172.17.0.3 - - [21/Jul/2019 16:54:22] \"POST / HTTP/1.1\" 200 -\n"
     ]
    },
    {
     "name": "stdout",
     "output_type": "stream",
     "text": [
      "{\"message\": {\"id\": \"10251036385684\", \"text\": \"3.\\u5c0d\\u96fb\\u5f71:The Avengers,\\u8868\\u793a\\u559c\\u6b61\", \"type\": \"text\"}, \"replyToken\": \"ccefac793e1447ad9a01acaa4eb97ce7\", \"source\": {\"type\": \"user\", \"userId\": \"U6f2dfaaac958fb9dcc653bfe6cfcc40b\"}, \"timestamp\": 1563699260335, \"type\": \"message\"}\n",
      "{'tag\n",
      "1\n",
      "{'tag1': 2, 'tag3': 1, 'tag4': 2, 'tag5': 0, 'tag6': 2, 'tag7': 2, 'tag8': 2, 'tag9': 2}\n"
     ]
    },
    {
     "name": "stderr",
     "output_type": "stream",
     "text": [
      "172.17.0.3 - - [21/Jul/2019 16:54:24] \"POST / HTTP/1.1\" 200 -\n"
     ]
    },
    {
     "name": "stdout",
     "output_type": "stream",
     "text": [
      "{'tag\n",
      "2\n",
      "{'tag1': 2, 'tag3': 1, 'tag4': 2, 'tag5': 0, 'tag6': 2, 'tag7': 2, 'tag8': 2, 'tag9': 2}\n"
     ]
    },
    {
     "name": "stderr",
     "output_type": "stream",
     "text": [
      "172.17.0.3 - - [21/Jul/2019 16:54:24] \"POST / HTTP/1.1\" 200 -\n"
     ]
    },
    {
     "name": "stdout",
     "output_type": "stream",
     "text": [
      "{\"message\": {\"id\": \"10251036497708\", \"text\": \"4.\\u5c0d\\u96fb\\u5f71:The Dark Knight,\\u8868\\u793a\\u5f88\\u559c\\u6b61\", \"type\": \"text\"}, \"replyToken\": \"3ee113057c594cabad9b4a298318b9d6\", \"source\": {\"type\": \"user\", \"userId\": \"U6f2dfaaac958fb9dcc653bfe6cfcc40b\"}, \"timestamp\": 1563699261858, \"type\": \"message\"}\n",
      "::確認填\n",
      "\n"
     ]
    },
    {
     "name": "stderr",
     "output_type": "stream",
     "text": [
      "172.17.0.3 - - [21/Jul/2019 16:54:26] \"POST / HTTP/1.1\" 200 -\n"
     ]
    },
    {
     "name": "stdout",
     "output_type": "stream",
     "text": [
      "{\"message\": {\"id\": \"10251036579600\", \"text\": \"\\u78ba\\u8a8d\\u586b\\u9078\\u8868\\u55ae\", \"type\": \"text\"}, \"replyToken\": \"453d64380c304365ba92f93e40e2da84\", \"source\": {\"type\": \"user\", \"userId\": \"U6f2dfaaac958fb9dcc653bfe6cfcc40b\"}, \"timestamp\": 1563699263039, \"type\": \"message\"}\n",
      "::tex\n",
      " \n"
     ]
    },
    {
     "name": "stderr",
     "output_type": "stream",
     "text": [
      "[2019-07-21 16:54:29,638] ERROR in app: Exception on / [POST]\n",
      "Traceback (most recent call last):\n",
      "  File \"/opt/conda/lib/python3.7/site-packages/flask/app.py\", line 1982, in wsgi_app\n",
      "    response = self.full_dispatch_request()\n",
      "  File \"/opt/conda/lib/python3.7/site-packages/flask/app.py\", line 1614, in full_dispatch_request\n",
      "    rv = self.handle_user_exception(e)\n",
      "  File \"/opt/conda/lib/python3.7/site-packages/flask/app.py\", line 1517, in handle_user_exception\n",
      "    reraise(exc_type, exc_value, tb)\n",
      "  File \"/opt/conda/lib/python3.7/site-packages/flask/_compat.py\", line 33, in reraise\n",
      "    raise value\n",
      "  File \"/opt/conda/lib/python3.7/site-packages/flask/app.py\", line 1612, in full_dispatch_request\n",
      "    rv = self.dispatch_request()\n",
      "  File \"/opt/conda/lib/python3.7/site-packages/flask/app.py\", line 1598, in dispatch_request\n",
      "    return self.view_functions[rule.endpoint](**req.view_args)\n",
      "  File \"<ipython-input-64-c07530bfb745>\", line 46, in callback\n",
      "    handler.handle(body, signature)\n",
      "  File \"/opt/conda/lib/python3.7/site-packages/linebot/webhook.py\", line 260, in handle\n",
      "    func(event)\n",
      "  File \"<ipython-input-80-47bc1da8685a>\", line 55, in handle_post_message\n",
      "    template_message_dict.get(event.postback.data))\n",
      "  File \"/opt/conda/lib/python3.7/site-packages/linebot/api.py\", line 96, in reply_message\n",
      "    'messages': [message.as_json_dict() for message in messages],\n",
      "  File \"/opt/conda/lib/python3.7/site-packages/linebot/api.py\", line 96, in <listcomp>\n",
      "    'messages': [message.as_json_dict() for message in messages],\n",
      "AttributeError: 'NoneType' object has no attribute 'as_json_dict'\n",
      "172.17.0.3 - - [21/Jul/2019 16:54:29] \"POST / HTTP/1.1\" 500 -\n",
      "172.17.0.3 - - [21/Jul/2019 16:54:30] \"POST / HTTP/1.1\" 200 -\n"
     ]
    },
    {
     "name": "stdout",
     "output_type": "stream",
     "text": [
      "{\"message\": {\"id\": \"10251036861209\", \"text\": \"\\u6211\\u8981\\u975e\\u9662\\u7dda\\u7247\", \"type\": \"text\"}, \"replyToken\": \"c835f1f16c7f404c957d0c4bf4ccc98f\", \"source\": {\"type\": \"user\", \"userId\": \"U6f2dfaaac958fb9dcc653bfe6cfcc40b\"}, \"timestamp\": 1563699266890, \"type\": \"message\"}\n"
     ]
    },
    {
     "name": "stderr",
     "output_type": "stream",
     "text": [
      "[2019-07-21 16:54:32,341] ERROR in app: Exception on / [POST]\n",
      "Traceback (most recent call last):\n",
      "  File \"/opt/conda/lib/python3.7/site-packages/flask/app.py\", line 1982, in wsgi_app\n",
      "    response = self.full_dispatch_request()\n",
      "  File \"/opt/conda/lib/python3.7/site-packages/flask/app.py\", line 1614, in full_dispatch_request\n",
      "    rv = self.handle_user_exception(e)\n",
      "  File \"/opt/conda/lib/python3.7/site-packages/flask/app.py\", line 1517, in handle_user_exception\n",
      "    reraise(exc_type, exc_value, tb)\n",
      "  File \"/opt/conda/lib/python3.7/site-packages/flask/_compat.py\", line 33, in reraise\n",
      "    raise value\n",
      "  File \"/opt/conda/lib/python3.7/site-packages/flask/app.py\", line 1612, in full_dispatch_request\n",
      "    rv = self.dispatch_request()\n",
      "  File \"/opt/conda/lib/python3.7/site-packages/flask/app.py\", line 1598, in dispatch_request\n",
      "    return self.view_functions[rule.endpoint](**req.view_args)\n",
      "  File \"<ipython-input-64-c07530bfb745>\", line 46, in callback\n",
      "    handler.handle(body, signature)\n",
      "  File \"/opt/conda/lib/python3.7/site-packages/linebot/webhook.py\", line 260, in handle\n",
      "    func(event)\n",
      "  File \"<ipython-input-80-47bc1da8685a>\", line 71, in handle_post_message\n",
      "    TextSendMessage(tag_home_final[data_1]['m2_Actors']))\n",
      "UnboundLocalError: local variable 'tag_home_final' referenced before assignment\n",
      "172.17.0.3 - - [21/Jul/2019 16:54:32] \"POST / HTTP/1.1\" 500 -\n"
     ]
    },
    {
     "name": "stdout",
     "output_type": "stream",
     "text": [
      "{'tag\n",
      "o\n",
      "{'tag1': 2, 'tag3': 1, 'tag4': 2, 'tag5': 0, 'tag6': 2, 'tag7': 2, 'tag8': 2, 'tag9': 2, 'tagActors_home': 0}\n"
     ]
    },
    {
     "name": "stderr",
     "output_type": "stream",
     "text": [
      "172.17.0.3 - - [21/Jul/2019 16:54:33] \"POST / HTTP/1.1\" 200 -\n"
     ]
    },
    {
     "name": "stdout",
     "output_type": "stream",
     "text": [
      "{\"message\": {\"id\": \"10251037072161\", \"text\": \"1..Harry Potter and the Deathly Hallows: Part 1\\u96fb\\u5f71\\u7684\\u6f14\\u54e1\", \"type\": \"text\"}, \"replyToken\": \"7f388b60667745b0b21a8c085d720ba7\", \"source\": {\"type\": \"user\", \"userId\": \"U6f2dfaaac958fb9dcc653bfe6cfcc40b\"}, \"timestamp\": 1563699269881, \"type\": \"message\"}\n"
     ]
    },
    {
     "name": "stderr",
     "output_type": "stream",
     "text": [
      "[2019-07-21 16:54:33,681] ERROR in app: Exception on / [POST]\n",
      "Traceback (most recent call last):\n",
      "  File \"/opt/conda/lib/python3.7/site-packages/flask/app.py\", line 1982, in wsgi_app\n",
      "    response = self.full_dispatch_request()\n",
      "  File \"/opt/conda/lib/python3.7/site-packages/flask/app.py\", line 1614, in full_dispatch_request\n",
      "    rv = self.handle_user_exception(e)\n",
      "  File \"/opt/conda/lib/python3.7/site-packages/flask/app.py\", line 1517, in handle_user_exception\n",
      "    reraise(exc_type, exc_value, tb)\n",
      "  File \"/opt/conda/lib/python3.7/site-packages/flask/_compat.py\", line 33, in reraise\n",
      "    raise value\n",
      "  File \"/opt/conda/lib/python3.7/site-packages/flask/app.py\", line 1612, in full_dispatch_request\n",
      "    rv = self.dispatch_request()\n",
      "  File \"/opt/conda/lib/python3.7/site-packages/flask/app.py\", line 1598, in dispatch_request\n",
      "    return self.view_functions[rule.endpoint](**req.view_args)\n",
      "  File \"<ipython-input-64-c07530bfb745>\", line 46, in callback\n",
      "    handler.handle(body, signature)\n",
      "  File \"/opt/conda/lib/python3.7/site-packages/linebot/webhook.py\", line 260, in handle\n",
      "    func(event)\n",
      "  File \"<ipython-input-80-47bc1da8685a>\", line 80, in handle_post_message\n",
      "    TextSendMessage(tag_home_final[data_1]['m2_Plot_short']))\n",
      "UnboundLocalError: local variable 'tag_home_final' referenced before assignment\n",
      "172.17.0.3 - - [21/Jul/2019 16:54:33] \"POST / HTTP/1.1\" 500 -\n"
     ]
    },
    {
     "name": "stdout",
     "output_type": "stream",
     "text": [
      "{'tag\n",
      "t\n",
      "{'tag1': 2, 'tag3': 1, 'tag4': 2, 'tag5': 0, 'tag6': 2, 'tag7': 2, 'tag8': 2, 'tag9': 2, 'tagActors_home': 0, 'tagPlot_short_home': 1}\n",
      "::tex\n",
      " \n"
     ]
    },
    {
     "name": "stderr",
     "output_type": "stream",
     "text": [
      "172.17.0.3 - - [21/Jul/2019 16:57:10] \"POST / HTTP/1.1\" 200 -\n",
      "172.17.0.3 - - [21/Jul/2019 16:57:10] \"POST / HTTP/1.1\" 200 -\n"
     ]
    },
    {
     "name": "stdout",
     "output_type": "stream",
     "text": [
      "{\"message\": {\"id\": \"10251048380262\", \"text\": \"\\u6211\\u60f3\\u770b\\u96fb\\u5f71\", \"type\": \"text\"}, \"replyToken\": \"597b133963014f7c9b9b18b98a22dee6\", \"source\": {\"type\": \"user\", \"userId\": \"U7ceb8be8bc236f8765d2a906342fce98\"}, \"timestamp\": 1563699427216, \"type\": \"message\"}\n"
     ]
    }
   ],
   "source": [
    "'''\n",
    "\n",
    "執行此句，啟動Server，觀察後，按左上方塊，停用Server\n",
    "\n",
    "'''\n",
    "\n",
    "if __name__ == \"__main__\":\n",
    "    app.run(host='0.0.0.0')"
   ]
  }
 ],
 "metadata": {
  "kernelspec": {
   "display_name": "Python 3",
   "language": "python",
   "name": "python3"
  },
  "language_info": {
   "codemirror_mode": {
    "name": "ipython",
    "version": 3
   },
   "file_extension": ".py",
   "mimetype": "text/x-python",
   "name": "python",
   "nbconvert_exporter": "python",
   "pygments_lexer": "ipython3",
   "version": "3.7.3"
  }
 },
 "nbformat": 4,
 "nbformat_minor": 2
}
